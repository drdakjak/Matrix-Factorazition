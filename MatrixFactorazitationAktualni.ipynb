{
 "cells": [
  {
   "cell_type": "code",
   "execution_count": 63,
   "metadata": {
    "collapsed": false
   },
   "outputs": [],
   "source": [
    "from sframe import SFrame\n",
    "from IPython.core.display import display"
   ]
  },
  {
   "cell_type": "code",
   "execution_count": 64,
   "metadata": {
    "collapsed": true
   },
   "outputs": [],
   "source": [
    "import pandas as pd\n",
    "import json\n",
    "import matplotlib.pyplot as plt\n",
    "plt.style.use('ggplot')\n",
    "from multiprocessing import Process, Pool\n",
    "from threading import Thread\n",
    "import time\n",
    "import timeit\n",
    "import numpy as np\n",
    "%matplotlib inline"
   ]
  },
  {
   "cell_type": "markdown",
   "metadata": {},
   "source": [
    "# Nacteni dat"
   ]
  },
  {
   "cell_type": "code",
   "execution_count": 67,
   "metadata": {
    "collapsed": true
   },
   "outputs": [],
   "source": [
    "ndataset = \"goout\""
   ]
  },
  {
   "cell_type": "code",
   "execution_count": 68,
   "metadata": {
    "collapsed": false
   },
   "outputs": [
    {
     "name": "stderr",
     "output_type": "stream",
     "text": [
      "/usr/local/lib/python3.4/dist-packages/IPython/core/interactiveshell.py:2723: DtypeWarning: Columns (0) have mixed types. Specify dtype option on import or set low_memory=False.\n",
      "  interactivity=interactivity, compiler=compiler, result=result)\n"
     ]
    }
   ],
   "source": [
    "with open(\"/home/kuba/ownCloud/ModGen-fac-mat/sample-data-v2/\"+ndataset+\"/items.json\",'r') as f:\n",
    "    items = json.loads(f.read())\n",
    "\n",
    "with open(\"/home/kuba/ownCloud/ModGen-fac-mat/sample-data-v2/\"+ndataset+\"/properties.json\",'r') as f:\n",
    "    properties = json.loads(f.read())\n",
    "    \n",
    "with open(\"/home/kuba/ownCloud/ModGen-fac-mat/sample-data-v2/\"+ndataset+\"/user.folds.json\",'r') as f:\n",
    "    user_folds = json.loads(f.read())\n",
    "    \n",
    "with open(\"/home/kuba/ownCloud/ModGen-fac-mat/sample-data-v2/\"+ndataset+\"/users.int2str.json\",'r') as f:\n",
    "    users_int2str = json.loads(f.read())\n",
    "    \n",
    "with open(\"/home/kuba/ownCloud/ModGen-fac-mat/sample-data-v2/\"+ndataset+\"/users.str2int.json\",'r') as f:\n",
    "    users_str2int = json.loads(f.read())\n",
    "      \n",
    "ratings = pd.read_csv(\"/home/kuba/ownCloud/ModGen-fac-mat/sample-data-v2/\"+ndataset+\"/ratings.csv\",  ) #dtype = {'rating': np.float, 'itemId': str, 'userId':str}\n",
    "# ratings = SFrame.read_csv(\"/home/kuba/ownCloud/ModGen-fac-mat/sample-data-v2/\"+ndataset+\"/ratings.csv\", column_type_hints=[str,str,float] ) \n",
    "with open(\"/home/kuba/ownCloud/ModGen-fac-mat/sample-data-v2/\"+ndataset+\"/items.int2str.json\",'r') as f:\n",
    "    items_int2str = json.loads(f.read())\n",
    "    \n",
    "with open(\"/home/kuba/ownCloud/ModGen-fac-mat/sample-data-v2/\"+ndataset+\"/items.str2int.json\",'r') as f:\n",
    "    items_str2int = json.loads(f.read())"
   ]
  },
  {
   "cell_type": "code",
   "execution_count": 73,
   "metadata": {
    "collapsed": false
   },
   "outputs": [
    {
     "ename": "MemoryError",
     "evalue": "",
     "output_type": "error",
     "traceback": [
      "\u001b[1;31m---------------------------------------------------------------------------\u001b[0m",
      "\u001b[1;31mMemoryError\u001b[0m                               Traceback (most recent call last)",
      "\u001b[1;32m<ipython-input-73-0674f9dd59bb>\u001b[0m in \u001b[0;36m<module>\u001b[1;34m()\u001b[0m\n\u001b[1;32m----> 1\u001b[1;33m \u001b[0mnp\u001b[0m\u001b[1;33m.\u001b[0m\u001b[0mones\u001b[0m\u001b[1;33m(\u001b[0m\u001b[0mshape\u001b[0m \u001b[1;33m=\u001b[0m \u001b[1;33m(\u001b[0m\u001b[0mlen\u001b[0m\u001b[1;33m(\u001b[0m\u001b[0mitems_int2str\u001b[0m\u001b[1;33m)\u001b[0m\u001b[1;33m,\u001b[0m\u001b[0mlen\u001b[0m\u001b[1;33m(\u001b[0m\u001b[0mitems_int2str\u001b[0m\u001b[1;33m)\u001b[0m\u001b[1;33m)\u001b[0m\u001b[1;33m,\u001b[0m \u001b[0mdtype\u001b[0m\u001b[1;33m=\u001b[0m\u001b[0mfloat\u001b[0m\u001b[1;33m)\u001b[0m\u001b[1;33m\u001b[0m\u001b[0m\n\u001b[0m",
      "\u001b[1;32m/usr/local/lib/python3.4/dist-packages/numpy/core/numeric.py\u001b[0m in \u001b[0;36mones\u001b[1;34m(shape, dtype, order)\u001b[0m\n\u001b[0;32m    188\u001b[0m \u001b[1;33m\u001b[0m\u001b[0m\n\u001b[0;32m    189\u001b[0m     \"\"\"\n\u001b[1;32m--> 190\u001b[1;33m     \u001b[0ma\u001b[0m \u001b[1;33m=\u001b[0m \u001b[0mempty\u001b[0m\u001b[1;33m(\u001b[0m\u001b[0mshape\u001b[0m\u001b[1;33m,\u001b[0m \u001b[0mdtype\u001b[0m\u001b[1;33m,\u001b[0m \u001b[0morder\u001b[0m\u001b[1;33m)\u001b[0m\u001b[1;33m\u001b[0m\u001b[0m\n\u001b[0m\u001b[0;32m    191\u001b[0m     \u001b[0mmultiarray\u001b[0m\u001b[1;33m.\u001b[0m\u001b[0mcopyto\u001b[0m\u001b[1;33m(\u001b[0m\u001b[0ma\u001b[0m\u001b[1;33m,\u001b[0m \u001b[1;36m1\u001b[0m\u001b[1;33m,\u001b[0m \u001b[0mcasting\u001b[0m\u001b[1;33m=\u001b[0m\u001b[1;34m'unsafe'\u001b[0m\u001b[1;33m)\u001b[0m\u001b[1;33m\u001b[0m\u001b[0m\n\u001b[0;32m    192\u001b[0m     \u001b[1;32mreturn\u001b[0m \u001b[0ma\u001b[0m\u001b[1;33m\u001b[0m\u001b[0m\n",
      "\u001b[1;31mMemoryError\u001b[0m: "
     ]
    }
   ],
   "source": [
    "np.ones(shape = (len(items_int2str),len(items_int2str)), dtype=float)"
   ]
  },
  {
   "cell_type": "code",
   "execution_count": 77,
   "metadata": {
    "collapsed": false
   },
   "outputs": [
    {
     "ename": "AttributeError",
     "evalue": "'DataFrame' object has no attribute 'memory'",
     "output_type": "error",
     "traceback": [
      "\u001b[1;31m---------------------------------------------------------------------------\u001b[0m",
      "\u001b[1;31mAttributeError\u001b[0m                            Traceback (most recent call last)",
      "\u001b[1;32m<ipython-input-77-80cf0248ed10>\u001b[0m in \u001b[0;36m<module>\u001b[1;34m()\u001b[0m\n\u001b[1;32m----> 1\u001b[1;33m \u001b[0mpd\u001b[0m\u001b[1;33m.\u001b[0m\u001b[0mDataFrame\u001b[0m\u001b[1;33m(\u001b[0m\u001b[0mnp\u001b[0m\u001b[1;33m.\u001b[0m\u001b[0mones\u001b[0m\u001b[1;33m(\u001b[0m\u001b[1;36m1\u001b[0m\u001b[1;33m)\u001b[0m\u001b[1;33m)\u001b[0m\u001b[1;33m.\u001b[0m\u001b[0mmemory\u001b[0m\u001b[1;33m\u001b[0m\u001b[0m\n\u001b[0m",
      "\u001b[1;32m/usr/local/lib/python3.4/dist-packages/pandas/core/generic.py\u001b[0m in \u001b[0;36m__getattr__\u001b[1;34m(self, name)\u001b[0m\n\u001b[0;32m   2667\u001b[0m             \u001b[1;32mif\u001b[0m \u001b[0mname\u001b[0m \u001b[1;32min\u001b[0m \u001b[0mself\u001b[0m\u001b[1;33m.\u001b[0m\u001b[0m_info_axis\u001b[0m\u001b[1;33m:\u001b[0m\u001b[1;33m\u001b[0m\u001b[0m\n\u001b[0;32m   2668\u001b[0m                 \u001b[1;32mreturn\u001b[0m \u001b[0mself\u001b[0m\u001b[1;33m[\u001b[0m\u001b[0mname\u001b[0m\u001b[1;33m]\u001b[0m\u001b[1;33m\u001b[0m\u001b[0m\n\u001b[1;32m-> 2669\u001b[1;33m             \u001b[1;32mreturn\u001b[0m \u001b[0mobject\u001b[0m\u001b[1;33m.\u001b[0m\u001b[0m__getattribute__\u001b[0m\u001b[1;33m(\u001b[0m\u001b[0mself\u001b[0m\u001b[1;33m,\u001b[0m \u001b[0mname\u001b[0m\u001b[1;33m)\u001b[0m\u001b[1;33m\u001b[0m\u001b[0m\n\u001b[0m\u001b[0;32m   2670\u001b[0m \u001b[1;33m\u001b[0m\u001b[0m\n\u001b[0;32m   2671\u001b[0m     \u001b[1;32mdef\u001b[0m \u001b[0m__setattr__\u001b[0m\u001b[1;33m(\u001b[0m\u001b[0mself\u001b[0m\u001b[1;33m,\u001b[0m \u001b[0mname\u001b[0m\u001b[1;33m,\u001b[0m \u001b[0mvalue\u001b[0m\u001b[1;33m)\u001b[0m\u001b[1;33m:\u001b[0m\u001b[1;33m\u001b[0m\u001b[0m\n",
      "\u001b[1;31mAttributeError\u001b[0m: 'DataFrame' object has no attribute 'memory'"
     ]
    }
   ],
   "source": [
    "pd.DataFrame(np.ones(1))."
   ]
  },
  {
   "cell_type": "code",
   "execution_count": 74,
   "metadata": {
    "collapsed": false
   },
   "outputs": [
    {
     "data": {
      "text/plain": [
       "2920970116"
      ]
     },
     "execution_count": 74,
     "metadata": {},
     "output_type": "execute_result"
    }
   ],
   "source": [
    "len(items_int2str)*len(items_int2str)"
   ]
  },
  {
   "cell_type": "markdown",
   "metadata": {},
   "source": [
    "# Faktorizace"
   ]
  },
  {
   "cell_type": "code",
   "execution_count": 40,
   "metadata": {
    "collapsed": false
   },
   "outputs": [],
   "source": [
    "import multiprocessing\n",
    "import ctypes\n",
    "import numpy as np\n",
    "import scipy.sparse as sp\n",
    "import scipy.sparse.linalg as sparse_lg\n",
    "import datetime\n",
    "from math import sqrt"
   ]
  },
  {
   "cell_type": "code",
   "execution_count": 41,
   "metadata": {
    "collapsed": false
   },
   "outputs": [
    {
     "data": {
      "text/plain": [
       "('64bit', 'ELF')"
      ]
     },
     "execution_count": 41,
     "metadata": {},
     "output_type": "execute_result"
    }
   ],
   "source": [
    "import platform\n",
    "platform.architecture()"
   ]
  },
  {
   "cell_type": "code",
   "execution_count": 42,
   "metadata": {
    "collapsed": false
   },
   "outputs": [],
   "source": [
    "import numpy as np\n",
    "from numpy.linalg import inv\n",
    "# %load_ext line_profiler"
   ]
  },
  {
   "cell_type": "code",
   "execution_count": 58,
   "metadata": {
    "collapsed": false
   },
   "outputs": [],
   "source": [
    "class MatrixFactorization:\n",
    "    def __init__(self, dataset, user_fold, no_factors, relevant = .25, testset_amount = 0.2, scale = True):\n",
    "        self.user_fold = user_fold\n",
    "        ratings = dataset[~dataset.userId.isin(user_fold)].copy()\n",
    "      \n",
    "        ratings['userId_'] = ratings['userId'].apply(lambda id_: users_str2int[str(id_)])\n",
    "        ratings['itemId_'] = ratings['itemId'].apply(lambda id_: items_str2int[str(id_)])\n",
    "        self.Dataset = ratings\n",
    "        \n",
    "        \n",
    "        self.Users = set(ratings['userId_'])\n",
    "        self.Items = set(ratings['itemId_'])\n",
    "        \n",
    "        self.no_Users = len(self.Users)\n",
    "        self.no_Items = len(self.Items)\n",
    "        \n",
    "        self.user_map_dict = dict(zip(self.Users,range(self.no_Users)))\n",
    "        self.item_map_dist = dict(zip(self.Items,range(self.no_Items)))\n",
    "\n",
    "        self.u_map = lambda users : map(lambda id_: user_map_dict[id_], users)\n",
    "        self.i_map = lambda items : map(lambda id_: item_map_dist[id_], items)\n",
    "\n",
    "        trainset, testset = self.init_testset(self.Dataset.copy(), testset_amount, relevant)\n",
    "        \n",
    "        self.Ratings_trainset = trainset\n",
    "        self.Ratings_testset = testset\n",
    "\n",
    "        \n",
    "        # userId -> items ids\n",
    "        self.User_Items = self.columns_to_dict(self.Ratings_trainset, 'userId_', 'itemId_')\n",
    "        self.Item_Users = self.columns_to_dict(self.Ratings_trainset, 'itemId_', 'userId_')\n",
    "        \n",
    "        # itemId -> ratings\n",
    "        self.Item_Ratings = self.columns_to_dict(self.Ratings_trainset, 'itemId_', 'rating')\n",
    "        self.User_Ratings = self.columns_to_dict(self.Ratings_trainset, 'userId_', 'rating')\n",
    "        \n",
    "        # (userId_, itemId_) -> rating[]\n",
    "        self.User_Item_Rating_train = self.ratings_to_dict(self.Ratings_trainset, ['userId_', 'itemId_'], ['rating'])\n",
    "        self.User_Item_Rating_test = self.ratings_to_dict(self.Ratings_testset, ['userId_', 'itemId_'], ['rating'])\n",
    "        \n",
    "        \n",
    "        self.relevant = relevant\n",
    "        self.testset_amount = testset_amount\n",
    "        self.no_factors = no_factors\n",
    "        \n",
    "      \n",
    "    \n",
    "    def columns_to_dict(self, df, key_column, value_column):\n",
    "        dict_ = {}\n",
    "        for tuple_ in df[[key_column, value_column]].itertuples():\n",
    "            key = tuple_[1]\n",
    "            value = tuple_[2]\n",
    "            if(not key in dict_.keys()):\n",
    "                dict_[key] = []\n",
    "\n",
    "            dict_[key].append(value)\n",
    "        return dict_   \n",
    "    \n",
    "    def ratings_to_dict(self, df, key_columns, value_column):\n",
    "        dict_ = {}\n",
    "        \n",
    "        for tuple_ in df[key_columns + value_column].itertuples():\n",
    "            key1 = tuple_[1]\n",
    "            key2 = tuple_[2]\n",
    "            value = tuple_[3]\n",
    "            \n",
    "            if(not (key1,key2) in dict_.keys()):\n",
    "                dict_[(key1,key2)] = []\n",
    "\n",
    "            dict_[(key1,key2)].append(value)\n",
    "        return dict_   \n",
    "\n",
    "    def init(self):\n",
    "        if(self.random_init): \n",
    "            user_shared_array_base = multiprocessing.Array(ctypes.c_double, np.random.rand(self.no_Users * self.no_factors), lock=False) #TODO pepople in fold vector ZEROS\n",
    "            user_shared_array = np.frombuffer(user_shared_array_base,dtype=float)    \n",
    "            self.Users = user_shared_array.reshape(self.no_Users, self.no_factors)\n",
    "            \n",
    "            item_shared_array_base = multiprocessing.Array(ctypes.c_double, np.random.rand(self.no_Items * self.no_factors), lock= False)\n",
    "            item_shared_array = np.frombuffer(item_shared_array_base,dtype=float)\n",
    "            self.Items = item_shared_array.reshape(self.no_Items, self.no_factors)\n",
    "            \n",
    "    def init_optimizer(self):\n",
    "        if(self.weights_mode == \"AllRank\"):\n",
    "            print(\"** Set weight: \",self.weight, \" to missing ratings **\")\n",
    "\n",
    "        elif(self.weights_mode == \"AllRank-pop\"):\n",
    "            print(\"AllRank-pop\")\n",
    "        \n",
    "        elif(self.weights_mode == \"MF-RMSE\"):\n",
    "            assert self.weight == 0, \"Weight of missiong values MF-RMSE mode must be 0!\"\n",
    "            \n",
    "        if(self.imputation_value != 0 ):   \n",
    "            print(\"** Surrogate missing rating values by imputation value: \", self.imputation_value, \" **\")\n",
    "            \n",
    "        \n",
    "    def init_testset(self, ratings, testset_amount, relevant):\n",
    "        ratings[\"Testset\"] = False\n",
    "        relevant_ = ratings.loc[ratings['rating']>=relevant]\n",
    "        \n",
    "        for user in self.Users:\n",
    "            ratings_ = relevant_.loc[relevant_['userId_']==user]\n",
    "            if(not ratings_.empty):\n",
    "                indeces = ratings_.index.tolist()\n",
    "                sample_indeces = np.random.choice(indeces, int(np.ceil(len(indeces)*relevant)), replace =False)\n",
    "                ratings.loc[sample_indeces, \"Testset\"]=True\n",
    "                \n",
    "        return ratings[ratings.Testset==False], ratings[ratings.Testset==True]\n",
    "\n",
    "            \n",
    "            \n",
    "        \n",
    "    '''\n",
    "    ATOP\n",
    "    '''\n",
    "    \n",
    "    def NRANKs_u(self, user, items):\n",
    "        prediction = self.R_hat[:,user]\n",
    "        ranks = np.argsort(prediction)\n",
    "        N = len(prediction)\n",
    "        nranks = np.array([np.where(ranks==item)[0][0] for item in items])/N\n",
    "        return nranks\n",
    "\n",
    "   \n",
    "    \n",
    "    def ATOP(self):\n",
    "        atop = []\n",
    "        RMSE = []\n",
    "        for user, cont_id_rat in self.Testset.items():\n",
    "            RMSE.extend(self.R_hat[cont_id_rat['indices'], user] - cont_id_rat['ratings'])\n",
    "            nranks = self.NRANKs_u(user, cont_id_rat['indices'])\n",
    "            atop.extend(nranks)\n",
    "        \n",
    "        return np.mean(atop), sqrt(np.mean((np.array(RMSE)**2)))\n",
    "            \n",
    "    \n",
    "    def RECALL_u(self, u, K, beta):\n",
    "        prediction = self.R_hat[:,u]\n",
    "        T = self.Test_matrix\n",
    "        idx = np.argsort(prediction)[::-1][:K]\n",
    "        idx_relevant = np.where(T[:,u] == True)\n",
    "    \n",
    "        return np.sum(T[idx,u])/np.sum(T[:,u]), np.sum([1/(self.number_of_obs_relevant_items[i]**beta) for i in idx_relevant[0]]) #TODO IndexError: index 7591 is out of bounds for axis 0 with size 717\n",
    "\n",
    "\n",
    "    \n",
    "    def RECALL(self, K, beta):\n",
    "        recall = 0\n",
    "        for u in range(len(self.Users)):\n",
    "            r, w = self.RECALL_u(u, K, beta)\n",
    "            recall += r*w\n",
    "        return recall\n",
    "             \n",
    "        \n",
    "    '''\n",
    "    RMSE\n",
    "    '''  \n",
    "    def RMSE(self, ratings):\n",
    "        users = self.Users\n",
    "        items = self.Items\n",
    "        \n",
    "        errors = []\n",
    "        for tuples_ in ratings[['userId_','itemId_','rating']].itertuples():\n",
    "            user, item, rating = tuples_[1], tuples_[2], tuples_[3] \n",
    "            errors.append(rating - (self.imputation_value + np.sum(np.array(V[item])*np.array(U[user]))))\n",
    "\n",
    "        return sqrt(((np.array(errors)**2).sum())/len(errors))\n",
    "    \n",
    "    '''\n",
    "    OPTIMAZE PER FACTOR\n",
    "    '''\n",
    "    def item_factor_factor(self,batch):\n",
    "        V = self.Weights, self.Ratings_matrix, self.Items\n",
    "        U = sp.csr_matrix(self.Users)\n",
    "        r_m, lambda_ = self.imputation_value, self.lambda_\n",
    "\n",
    "        UU = (self.weight*U.T).dot(U)\n",
    "        for i in batch:\n",
    "            i_rated = self.Item_Users[i]\n",
    "            U_s = U[self.u_map(i_rated),:]\n",
    "            Wi = np.empty(shape=(1,len(self.Item_Users[i])))\n",
    "            Wi.fill(self.weight_of_rating)\n",
    "            \n",
    "            lM = sp.csr_matrix(np.array(self.Item_Ratings[i]) - r_m).dot( sp.csr_matrix( Wi.T.dot(np.ones((1,self.no_factors)))).multiply(U_s) )\n",
    "            rM = UU - (self.weight*U_s.T).dot(U_s) + U_s.T.multiply(sp.csr_matrix(np.ones((self.no_factors,1)).dot(Wi))).dot(U_s) \n",
    "            reg = lambda_ * (self.weight * (self.no_Items-len(Wi)) + (Wi-self.weight).sum()) * sp.eye(self.no_factors)\n",
    "            V[self.i_map([i]),:] = sparse_lg.spsolve(rM+reg,lM.T)\n",
    "\n",
    "    \n",
    "    def compute_user_factor(self, batch):\n",
    "        U = self.Users\n",
    "        lambda_, r_m = self.lambda_, self.imputation_value\n",
    "        V = sp.csr_matrix(self.Items)\n",
    "        \n",
    "        VV = (self.weight*V.T).dot(V)\n",
    "        for u in batch:\n",
    "            u_rated = self.User_Items[u]\n",
    "            V_s = V[self.i_map(u_rated),:]\n",
    "            Wu = np.empty(shape=(len(self.User_Items[u]), u)).fill(self.weight_of_rating)\n",
    "            Wu.fill(self.weight_of_rating)\n",
    "          \n",
    "            lM = sp.csr_matrix(np.array(self.User_ratings[u]) - r_m).dot(sp.csr_matrix( Wu.T.dot(np.ones((self.no_factors,1)))).multiply(V_s) )\n",
    "            rM = VV - (self.weight*V_s.T).dot(V_s) + V_s.T.multiply(sp.csr_matrix(np.ones((self.no_factors,1)).dot(Wu))).dot(V_s) \n",
    "            reg = lambda_ * W[:,u].sum() * (self.weight * (self.no_Users-len(Wu)) + (Wu-self.weight).sum()) * sp.eye(self.no_factors)\n",
    "                                                                    \n",
    "            U[self.u_map([u]),:] = parse_lg.spsolve(rM+reg,lM.T)\n",
    "           \n",
    "\n",
    "    '''\n",
    "    OPTIMIZE RMSE\n",
    "    '''\n",
    "    def optimize_rmse(self):\n",
    "        self.init()\n",
    "        self.init_optimizer()\n",
    "        \n",
    "        weighted_errors = []\n",
    "        ATOPs = []\n",
    "        \n",
    "        step_item = int(np.ceil(len(self.Items)/float(self.no_process)))\n",
    "        step_user = int(np.ceil(len(self.Users)/float(self.no_process)))\n",
    "        \n",
    "        item_range = [self.Items[i,i+step_item] for i in range(0, len(self.Items), step_item)]\n",
    "        user_range = [self.Users[u,u+step_user] for u in range(0, len(self.Users), step_user)]\n",
    "                                                                    \n",
    "        print(\"Item range\", item_range)\n",
    "        print(\"User range\", user_range)\n",
    "        print(\"*******************************\")\n",
    "        print(\"Lambda: \", self.lambda_)\n",
    "        print(\"Impute value: \", self.imputation_value)\n",
    "        print(\"Weight: \", self.weight)\n",
    "        print(\"*******************************\")\n",
    "        \n",
    "        for ii in range(self.no_iterations):\n",
    "            if(not ii % 1):\n",
    "                weighted_errors.append(self.RMSE(self.ratings_trainset))\n",
    "                print('{}th iteration is completed'.format(ii))\n",
    "                print(\"RMSE (TRAIN) \", weighted_errors[-1])\n",
    "                \n",
    "#                 atop, rmse = self.ATOP()\n",
    "#                 ATOPs.append(atop)\n",
    "#                 print(\"ATOP \", atop, \" RMSE (TEST) \", rmse)\n",
    "\n",
    "            #ITEMS                \n",
    "            process = []\n",
    "            for batch in item_range:\n",
    "                p = Process(target = self.compute_item_factor, args = (batch,))\n",
    "                p.daemon = True\n",
    "\n",
    "                process.append(p)\n",
    "                p.start()\n",
    "            \n",
    "            [p.join() for p in process]\n",
    "                \n",
    "            #USERS\n",
    "            process = []\n",
    "            for batch in user_range:\n",
    "                p = Process(target = self.compute_user_factor, args = (batch,))\n",
    "                p.daemon = True\n",
    "\n",
    "                process.append(p)\n",
    "                p.start()\n",
    "            \n",
    "            [p.join() for p in process]\n",
    "\n",
    "        return weighted_errors, ATOPs\n",
    "\n",
    "        \n",
    "    def optimaze(self, no_iterations, loss_function=\"RMSE\", opt_method=\"solver\",  lambda_ = 0.001, alfa=0.00001, \n",
    "                 no_process = 1, random_init = True, weights_mode = \"MF-RMSE\", weight = 0, imputation_value = 0, sparse = False, beta = 0, K = 10, weight_of_rating = 1):\n",
    "        \n",
    "        self.loss_function = loss_function\n",
    "        self.solve_opt_method = opt_method \n",
    "        self.lambda_ = lambda_\n",
    "        self.alfa = alfa\n",
    "        self.no_process = no_process\n",
    "        self.no_iterations = no_iterations\n",
    "        self.random_init = random_init\n",
    "        self.weights_mode = weights_mode\n",
    "        self.weight = weight\n",
    "        self.imputation_value = imputation_value\n",
    "        self.opt_method = opt_method\n",
    "        self.sparse = sparse\n",
    "        self.beta = beta \n",
    "        self.K = K\n",
    "        self.weight_of_rating = weight_of_rating\n",
    "                                                                    \n",
    "        \n",
    "        weighted_errors, ATOPs = self.optimize_rmse()\n",
    "        \n",
    "        self.plot_rmse(weighted_errors)\n",
    "        return np.max(ATOPs)\n",
    "    '''\n",
    "    PLOT AND EXPLORE\n",
    "    '''\n",
    "    def plot_rmse(self, weighted_errors):\n",
    "        plt.plot(np.log(weighted_errors), label=\"weighted error: \"+str(weighted_errors[-1]))\n",
    "        plt.ylabel(\"RMSE log scale\")\n",
    "        plt.xlabel(\"no iterations\")\n",
    "\n",
    "        plt.legend()\n",
    "        plt.show()\n",
    "        \n",
    "    def explore(self):\n",
    "        relevant = self.relevant \n",
    "        R = self.Ratings_matrix\n",
    "        no_ratings = np.sum(self.Idx==True)\n",
    "        no_missing = np.sum(self.Idx==False)\n",
    "        no_all = no_ratings + no_missing\n",
    "        \n",
    "        sizes = [no_ratings, no_missing]\n",
    "        labels = [\"ratings\", \"missings\"]\n",
    "        colors = ['yellowgreen', 'lightskyblue']\n",
    "\n",
    "        plt.pie(sizes, labels=labels,\n",
    "                autopct='%1.1f%%', shadow=True, startangle=90, colors= colors)\n",
    "        plt.axis('equal')\n",
    "        plt.show()\n",
    "        print(\"#{} rating, #{} missing\".format(no_ratings, no_missing))\n",
    "        print(\"Estimate offset w(m): \", no_ratings/no_missing)\n",
    "        print(\"Avg of ratings: \", R[self.Idx].mean())\n",
    "        \n",
    "        no_relevant = np.sum(R[self.Idx]>=relevant)\n",
    "        no_irelevant = np.sum(R[self.Idx]<relevant)\n",
    "        labels = [\"relevant\", \"irelevenat\"]\n",
    "\n",
    "        sizes = [no_relevant, no_irelevant]\n",
    "        colors = ['lightskyblue', 'lightcoral']\n",
    "        plt.pie(sizes, labels=labels,\n",
    "                autopct='%1.1f%%', shadow=True, startangle=90, colors= colors)\n",
    "        plt.axis('equal')\n",
    "        plt.show()\n",
    "        \n",
    "        print(\"#{} relevant, #{} irelevant\".format(no_relevant, no_irelevant))\n",
    "\n",
    "        items_popularity = np.sort(list(self.number_of_obs_relevant_items.values()))[::-1]\n",
    "#         plt.bar(range(len(items_popularity)),items_popularity)\n",
    "        plt.xticks([])\n",
    "        plt.ylabel(\"# of item rating marked as relevant\")\n",
    "        plt.xlabel(\"item\")\n",
    "        plt.plot(items_popularity,'_')\n",
    "        plt.show()\n",
    "        \n",
    "        plt.hist(self.Dataset['rating'].values,bins = len(set(self.Dataset['rating'])))\n",
    "        plt.xlabel(\"rating\")\n",
    "        plt.show()"
   ]
  },
  {
   "cell_type": "code",
   "execution_count": 59,
   "metadata": {
    "collapsed": false,
    "scrolled": true
   },
   "outputs": [],
   "source": [
    "# %load_ext line_profiler"
   ]
  },
  {
   "cell_type": "code",
   "execution_count": 60,
   "metadata": {
    "collapsed": false
   },
   "outputs": [],
   "source": [
    "ifold = 0\n",
    "MFact = MatrixFactorization(ratings.copy(), user_folds[ifold],  50, relevant = 1., testset_amount = 0.2)\n"
   ]
  },
  {
   "cell_type": "code",
   "execution_count": null,
   "metadata": {
    "collapsed": false
   },
   "outputs": [],
   "source": [
    "# MFact.explore()"
   ]
  },
  {
   "cell_type": "code",
   "execution_count": 26,
   "metadata": {
    "collapsed": false
   },
   "outputs": [
    {
     "name": "stdout",
     "output_type": "stream",
     "text": [
      "** Set weight:  0.05  to missing ratings **\n",
      "** Surrogate missing rating values by imputation value:  -0.5  **\n"
     ]
    },
    {
     "ename": "IndexError",
     "evalue": "index 529 is out of bounds for axis 1 with size 50",
     "output_type": "error",
     "traceback": [
      "\u001b[1;31m---------------------------------------------------------------------------\u001b[0m",
      "\u001b[1;31mIndexError\u001b[0m                                Traceback (most recent call last)",
      "\u001b[1;32m<ipython-input-26-0c8e7555e067>\u001b[0m in \u001b[0;36m<module>\u001b[1;34m()\u001b[0m\n\u001b[1;32m----> 1\u001b[1;33m \u001b[0mATOP\u001b[0m \u001b[1;33m=\u001b[0m \u001b[0mMFact\u001b[0m\u001b[1;33m.\u001b[0m\u001b[0moptimaze\u001b[0m\u001b[1;33m(\u001b[0m\u001b[1;36m6\u001b[0m\u001b[1;33m,\u001b[0m \u001b[0mopt_method\u001b[0m\u001b[1;33m=\u001b[0m\u001b[1;34m\"solver\"\u001b[0m\u001b[1;33m,\u001b[0m  \u001b[0mlambda_\u001b[0m \u001b[1;33m=\u001b[0m \u001b[1;36m0.05\u001b[0m\u001b[1;33m,\u001b[0m \u001b[0mno_process\u001b[0m \u001b[1;33m=\u001b[0m \u001b[1;36m7\u001b[0m\u001b[1;33m,\u001b[0m \u001b[0mweights_mode\u001b[0m \u001b[1;33m=\u001b[0m \u001b[1;34m\"AllRank\"\u001b[0m\u001b[1;33m,\u001b[0m \u001b[0mweight\u001b[0m \u001b[1;33m=\u001b[0m \u001b[1;36m0.05\u001b[0m\u001b[1;33m,\u001b[0m \u001b[0mimputation_value\u001b[0m \u001b[1;33m=\u001b[0m \u001b[1;33m-\u001b[0m\u001b[1;36m0.5\u001b[0m \u001b[1;33m,\u001b[0m \u001b[0mrandom_init\u001b[0m \u001b[1;33m=\u001b[0m \u001b[1;32mTrue\u001b[0m\u001b[1;33m,\u001b[0m \u001b[0msparse\u001b[0m \u001b[1;33m=\u001b[0m \u001b[1;32mTrue\u001b[0m\u001b[1;33m,\u001b[0m\u001b[1;33m)\u001b[0m\u001b[1;33m\u001b[0m\u001b[0m\n\u001b[0m",
      "\u001b[1;32m<ipython-input-23-acc8fc434386>\u001b[0m in \u001b[0;36moptimaze\u001b[1;34m(self, no_iterations, loss_function, opt_method, lambda_, alfa, no_process, random_init, weights_mode, weight, imputation_value, sparse, beta, K, weight_of_rating)\u001b[0m\n\u001b[0;32m    261\u001b[0m \u001b[1;33m\u001b[0m\u001b[0m\n\u001b[0;32m    262\u001b[0m \u001b[1;33m\u001b[0m\u001b[0m\n\u001b[1;32m--> 263\u001b[1;33m         \u001b[0mweighted_errors\u001b[0m\u001b[1;33m,\u001b[0m \u001b[0mATOPs\u001b[0m \u001b[1;33m=\u001b[0m \u001b[0mself\u001b[0m\u001b[1;33m.\u001b[0m\u001b[0moptimize_rmse\u001b[0m\u001b[1;33m(\u001b[0m\u001b[1;33m)\u001b[0m\u001b[1;33m\u001b[0m\u001b[0m\n\u001b[0m\u001b[0;32m    264\u001b[0m \u001b[1;33m\u001b[0m\u001b[0m\n\u001b[0;32m    265\u001b[0m         \u001b[0mself\u001b[0m\u001b[1;33m.\u001b[0m\u001b[0mplot_rmse\u001b[0m\u001b[1;33m(\u001b[0m\u001b[0mweighted_errors\u001b[0m\u001b[1;33m)\u001b[0m\u001b[1;33m\u001b[0m\u001b[0m\n",
      "\u001b[1;32m<ipython-input-23-acc8fc434386>\u001b[0m in \u001b[0;36moptimize_rmse\u001b[1;34m(self)\u001b[0m\n\u001b[0;32m    195\u001b[0m         \u001b[0mstep_user\u001b[0m \u001b[1;33m=\u001b[0m \u001b[0mint\u001b[0m\u001b[1;33m(\u001b[0m\u001b[0mnp\u001b[0m\u001b[1;33m.\u001b[0m\u001b[0mceil\u001b[0m\u001b[1;33m(\u001b[0m\u001b[0mlen\u001b[0m\u001b[1;33m(\u001b[0m\u001b[0mself\u001b[0m\u001b[1;33m.\u001b[0m\u001b[0mUsers\u001b[0m\u001b[1;33m)\u001b[0m\u001b[1;33m/\u001b[0m\u001b[0mfloat\u001b[0m\u001b[1;33m(\u001b[0m\u001b[0mself\u001b[0m\u001b[1;33m.\u001b[0m\u001b[0mno_process\u001b[0m\u001b[1;33m)\u001b[0m\u001b[1;33m)\u001b[0m\u001b[1;33m)\u001b[0m\u001b[1;33m\u001b[0m\u001b[0m\n\u001b[0;32m    196\u001b[0m \u001b[1;33m\u001b[0m\u001b[0m\n\u001b[1;32m--> 197\u001b[1;33m         \u001b[0mitem_range\u001b[0m \u001b[1;33m=\u001b[0m \u001b[1;33m[\u001b[0m\u001b[0mself\u001b[0m\u001b[1;33m.\u001b[0m\u001b[0mItems\u001b[0m\u001b[1;33m[\u001b[0m\u001b[0mi\u001b[0m\u001b[1;33m,\u001b[0m\u001b[0mi\u001b[0m\u001b[1;33m+\u001b[0m\u001b[0mstep_item\u001b[0m\u001b[1;33m]\u001b[0m \u001b[1;32mfor\u001b[0m \u001b[0mi\u001b[0m \u001b[1;32min\u001b[0m \u001b[0mrange\u001b[0m\u001b[1;33m(\u001b[0m\u001b[1;36m0\u001b[0m\u001b[1;33m,\u001b[0m \u001b[0mlen\u001b[0m\u001b[1;33m(\u001b[0m\u001b[0mself\u001b[0m\u001b[1;33m.\u001b[0m\u001b[0mItems\u001b[0m\u001b[1;33m)\u001b[0m\u001b[1;33m,\u001b[0m \u001b[0mstep_item\u001b[0m\u001b[1;33m)\u001b[0m\u001b[1;33m]\u001b[0m\u001b[1;33m\u001b[0m\u001b[0m\n\u001b[0m\u001b[0;32m    198\u001b[0m         \u001b[0muser_range\u001b[0m \u001b[1;33m=\u001b[0m \u001b[1;33m[\u001b[0m\u001b[0mself\u001b[0m\u001b[1;33m.\u001b[0m\u001b[0mUsers\u001b[0m\u001b[1;33m[\u001b[0m\u001b[0mu\u001b[0m\u001b[1;33m,\u001b[0m\u001b[0mu\u001b[0m\u001b[1;33m+\u001b[0m\u001b[0mstep_user\u001b[0m\u001b[1;33m]\u001b[0m \u001b[1;32mfor\u001b[0m \u001b[0mu\u001b[0m \u001b[1;32min\u001b[0m \u001b[0mrange\u001b[0m\u001b[1;33m(\u001b[0m\u001b[1;36m0\u001b[0m\u001b[1;33m,\u001b[0m \u001b[0mlen\u001b[0m\u001b[1;33m(\u001b[0m\u001b[0mself\u001b[0m\u001b[1;33m.\u001b[0m\u001b[0mUsers\u001b[0m\u001b[1;33m)\u001b[0m\u001b[1;33m,\u001b[0m \u001b[0mstep_user\u001b[0m\u001b[1;33m)\u001b[0m\u001b[1;33m]\u001b[0m\u001b[1;33m\u001b[0m\u001b[0m\n\u001b[0;32m    199\u001b[0m \u001b[1;33m\u001b[0m\u001b[0m\n",
      "\u001b[1;32m<ipython-input-23-acc8fc434386>\u001b[0m in \u001b[0;36m<listcomp>\u001b[1;34m(.0)\u001b[0m\n\u001b[0;32m    195\u001b[0m         \u001b[0mstep_user\u001b[0m \u001b[1;33m=\u001b[0m \u001b[0mint\u001b[0m\u001b[1;33m(\u001b[0m\u001b[0mnp\u001b[0m\u001b[1;33m.\u001b[0m\u001b[0mceil\u001b[0m\u001b[1;33m(\u001b[0m\u001b[0mlen\u001b[0m\u001b[1;33m(\u001b[0m\u001b[0mself\u001b[0m\u001b[1;33m.\u001b[0m\u001b[0mUsers\u001b[0m\u001b[1;33m)\u001b[0m\u001b[1;33m/\u001b[0m\u001b[0mfloat\u001b[0m\u001b[1;33m(\u001b[0m\u001b[0mself\u001b[0m\u001b[1;33m.\u001b[0m\u001b[0mno_process\u001b[0m\u001b[1;33m)\u001b[0m\u001b[1;33m)\u001b[0m\u001b[1;33m)\u001b[0m\u001b[1;33m\u001b[0m\u001b[0m\n\u001b[0;32m    196\u001b[0m \u001b[1;33m\u001b[0m\u001b[0m\n\u001b[1;32m--> 197\u001b[1;33m         \u001b[0mitem_range\u001b[0m \u001b[1;33m=\u001b[0m \u001b[1;33m[\u001b[0m\u001b[0mself\u001b[0m\u001b[1;33m.\u001b[0m\u001b[0mItems\u001b[0m\u001b[1;33m[\u001b[0m\u001b[0mi\u001b[0m\u001b[1;33m,\u001b[0m\u001b[0mi\u001b[0m\u001b[1;33m+\u001b[0m\u001b[0mstep_item\u001b[0m\u001b[1;33m]\u001b[0m \u001b[1;32mfor\u001b[0m \u001b[0mi\u001b[0m \u001b[1;32min\u001b[0m \u001b[0mrange\u001b[0m\u001b[1;33m(\u001b[0m\u001b[1;36m0\u001b[0m\u001b[1;33m,\u001b[0m \u001b[0mlen\u001b[0m\u001b[1;33m(\u001b[0m\u001b[0mself\u001b[0m\u001b[1;33m.\u001b[0m\u001b[0mItems\u001b[0m\u001b[1;33m)\u001b[0m\u001b[1;33m,\u001b[0m \u001b[0mstep_item\u001b[0m\u001b[1;33m)\u001b[0m\u001b[1;33m]\u001b[0m\u001b[1;33m\u001b[0m\u001b[0m\n\u001b[0m\u001b[0;32m    198\u001b[0m         \u001b[0muser_range\u001b[0m \u001b[1;33m=\u001b[0m \u001b[1;33m[\u001b[0m\u001b[0mself\u001b[0m\u001b[1;33m.\u001b[0m\u001b[0mUsers\u001b[0m\u001b[1;33m[\u001b[0m\u001b[0mu\u001b[0m\u001b[1;33m,\u001b[0m\u001b[0mu\u001b[0m\u001b[1;33m+\u001b[0m\u001b[0mstep_user\u001b[0m\u001b[1;33m]\u001b[0m \u001b[1;32mfor\u001b[0m \u001b[0mu\u001b[0m \u001b[1;32min\u001b[0m \u001b[0mrange\u001b[0m\u001b[1;33m(\u001b[0m\u001b[1;36m0\u001b[0m\u001b[1;33m,\u001b[0m \u001b[0mlen\u001b[0m\u001b[1;33m(\u001b[0m\u001b[0mself\u001b[0m\u001b[1;33m.\u001b[0m\u001b[0mUsers\u001b[0m\u001b[1;33m)\u001b[0m\u001b[1;33m,\u001b[0m \u001b[0mstep_user\u001b[0m\u001b[1;33m)\u001b[0m\u001b[1;33m]\u001b[0m\u001b[1;33m\u001b[0m\u001b[0m\n\u001b[0;32m    199\u001b[0m \u001b[1;33m\u001b[0m\u001b[0m\n",
      "\u001b[1;31mIndexError\u001b[0m: index 529 is out of bounds for axis 1 with size 50"
     ]
    }
   ],
   "source": [
    "ATOP = MFact.optimaze(6, opt_method=\"solver\",  lambda_ = 0.05, no_process = 7, weights_mode = \"AllRank\", weight = 0.05, imputation_value = -0.5 , random_init = True, sparse = True,)\n"
   ]
  },
  {
   "cell_type": "code",
   "execution_count": null,
   "metadata": {
    "collapsed": false,
    "scrolled": true
   },
   "outputs": [],
   "source": [
    "ATOPs = {}\n",
    "for lambda_ in [0.01, 0.02, 0.03, 0.04, 0.05, 0.06]:\n",
    "    ATOPs[lambda_] = {}\n",
    "    for impute in [-0.5, 0, 0.5]:\n",
    "        ATOPs[lambda_][impute] = []\n",
    "        for weight in [0, 0.02, 0.05, 0.08,  0.1, 0.3, 0.5, 0.8, 1]:\n",
    "            ATOP = MFact.optimaze(6, opt_method=\"solver\",  lambda_ = lambda_, no_process = 7, weights_mode = \"AllRank\", weight = weight, scale = True, imputation_value = impute , random_init = True, sparse = True, beta= 0.0, K = 20)\n",
    "            if(ATOPs[lambda_][impute]==[]):\n",
    "                 ATOPs[lambda_][impute].append(ATOP)\n",
    "            else:\n",
    "                if(ATOPs[lambda_][impute][-1]>ATOP):\n",
    "                    ATOPs[lambda_][impute].append(ATOP)\n",
    "                    break\n",
    "                else:\n",
    "                    ATOPs[lambda_][impute].append(ATOP)\n",
    "# start_time = datetime.datetime.now()\n",
    "# datetime.datetime.now() - start_time"
   ]
  },
  {
   "cell_type": "code",
   "execution_count": null,
   "metadata": {
    "collapsed": false
   },
   "outputs": [],
   "source": [
    "plt.bar(range(len(ATOPs)),ATOPs)\n",
    "plt.xticks(np.arange(len(ATOPs))+0.5, [0, 0.02, 0.05, 0.08,  0.1, 0.3, 0.5, 0.8, 1])\n",
    "plt.show()"
   ]
  },
  {
   "cell_type": "code",
   "execution_count": null,
   "metadata": {
    "collapsed": false
   },
   "outputs": [],
   "source": [
    "for key in ATOPs.keys():\n",
    "    print(\"lambda: \", key)\n",
    "    for im in ATOPs[key].keys():\n",
    "        print(\"     impute value: \", im)\n",
    "        print(\"                  \", ATOPs[key][im])"
   ]
  },
  {
   "cell_type": "raw",
   "metadata": {
    "collapsed": true
   },
   "source": [
    "MOVIELENS\n",
    "lambda:  0.03\n",
    "     impute value:  -0.5\n",
    "                   [0.87336074356357907, 0.93502373567039399, 0.93726029827897539, 0.93520224549883313]\n",
    "     impute value:  0\n",
    "                   [0.86064136585007867, 0.93184326304197895, 0.9345076898566681, 0.93245310322548958]\n",
    "     impute value:  0.5\n",
    "                   [0.80954426277909464, 0.74155971576770352]\n",
    "lambda:  0.04\n",
    "     impute value:  -0.5\n",
    "                   [0.87623523542077453, 0.93239542246604201, 0.93165237861978822]\n",
    "     impute value:  0\n",
    "                   [0.86517507606807986, 0.92802589659014156, 0.92751320959471961]\n",
    "     impute value:  0.5\n",
    "                   [0.82064403345893167, 0.73891840292634392]\n",
    "lambda:  0.06\n",
    "     impute value:  -0.5\n",
    "                   [0.86079381326881965, 0.92210189445054913, 0.9203290129207049]\n",
    "     impute value:  0\n",
    "                   [0.85160998326159409, 0.91617770921747754, 0.91456074756890704]\n",
    "     impute value:  0.5\n",
    "                   [0.81612866415666974, 0.71995746953144579]\n",
    "lambda:  0.05\n",
    "     impute value:  -0.5\n",
    "                   [0.86963159660076983, 0.92723082262801559, 0.92587346859193631]\n",
    "     impute value:  0\n",
    "                   [0.86003571156231162, 0.92183176211980034, 0.92088765637935122]\n",
    "     impute value:  0.5\n",
    "                   [0.82074730449464561, 0.72998474174708983]\n",
    "lambda:  0.02\n",
    "     impute value:  -0.5\n",
    "                   [0.85875854615645808, 0.93103640164794721, 0.9381802735616086, 0.93906291040166556, 0.93910814711811053, 0.92943240175497488]\n",
    "     impute value:  0\n",
    "                   [0.84495190254264951, 0.92890766215778131, 0.9367235250207151, 0.93838554660582008, 0.93819562815957003]\n",
    "     impute value:  0.5\n",
    "                   [0.78970640000982906, 0.72642900956314926]\n",
    "lambda:  0.01\n",
    "     impute value:  -0.5\n",
    "                   [0.82732974866606601, 0.91965755231116431, 0.92923872673562169, 0.93276648981225574, 0.93420037060898109, 0.93593850225922837, 0.93384742320361847]\n",
    "     impute value:  0\n",
    "                   [0.81257802702229942, 0.91893166874338894, 0.93052853190509299, 0.93380975645549413, 0.93526115740408755, 0.9369469495736189, 0.93433637749602338]\n",
    "     impute value:  0.5\n",
    "                   [0.75436965530404954, 0.70451616733728761]"
   ]
  },
  {
   "cell_type": "code",
   "execution_count": 76,
   "metadata": {
    "collapsed": false
   },
   "outputs": [
    {
     "data": {
      "text/plain": [
       "array([ 0.03922827,  0.03625654,  0.01451074,  0.01327572, -0.07271202,\n",
       "       -0.0629774 , -0.0436064 , -0.01009882, -0.05452575,  0.00619541,\n",
       "       -0.04376823, -0.00383725, -0.02075124, -0.00304385,  0.01887179,\n",
       "       -0.03466216, -0.00503142,  0.07140535, -0.03133925,  0.05285002,\n",
       "        0.00261563,  0.0780847 ,  0.03354193, -0.000628  , -0.00158779,\n",
       "       -0.03234673,  0.01461181,  0.00217666,  0.00316245,  0.06487512,\n",
       "        0.01479268,  0.00116855, -0.01768169, -0.03174568, -0.01962428,\n",
       "       -0.01409619,  0.0083385 ,  0.07628607,  0.0257955 ,  0.01359626,\n",
       "        0.04752589,  0.0331736 , -0.04989023, -0.01649847, -0.04114553,\n",
       "        0.02133173,  0.01789828, -0.02593577,  0.05394011,  0.00844431])"
      ]
     },
     "execution_count": 76,
     "metadata": {},
     "output_type": "execute_result"
    }
   ],
   "source": [
    "W, R= MFact.Weights, MFact.Ratings_matrix\n",
    "V = MFact.Items[:R.shape[0]]\n",
    "U = sp.csr_matrix(MFact.Users[:R.shape[1]])\n",
    "r_m = MFact.imputation_value\n",
    "lambda_ = MFact.lambda_\n",
    "UU = (MFact.weight*U.T).dot(U)\n",
    "\n",
    "i = 0\n",
    "i_rated = MFact.Idx[i,:]\n",
    "U_s = U[i_rated,:]\n",
    "lM = sp.csr_matrix(R[i,:] - r_m).dot(sp.diags(W[i], 0)).dot(U)\n",
    "rM = UU - (MFact.weight*U_s.T).dot(U_s) + U_s.T.multiply(sp.csr_matrix(np.ones((MFact.no_factors,1)).dot(MFact.Weights[i,i_rated].reshape(1, MFact.Weights[i,i_rated].shape[0])))).dot(U_s) \n",
    "reg = lambda_ * W[i].sum() * sp.eye(MFact.no_factors)\n",
    "sparse_lg.spsolve(rM+reg,lM.T)\n"
   ]
  },
  {
   "cell_type": "markdown",
   "metadata": {},
   "source": [
    "## optimalizovane "
   ]
  },
  {
   "cell_type": "code",
   "execution_count": 77,
   "metadata": {
    "collapsed": false
   },
   "outputs": [
    {
     "data": {
      "text/plain": [
       "array([ 0.03942559,  0.03642063,  0.01456956,  0.01332304, -0.07310275,\n",
       "       -0.06332515, -0.04385188, -0.0101677 , -0.05480824,  0.00621141,\n",
       "       -0.04396447, -0.00388706, -0.02090028, -0.00309698,  0.01894411,\n",
       "       -0.03487651, -0.00507792,  0.0717641 , -0.03152139,  0.05313088,\n",
       "        0.00260641,  0.0784675 ,  0.03372638, -0.00065793, -0.00161696,\n",
       "       -0.03253757,  0.0146964 ,  0.00215189,  0.00315795,  0.06519347,\n",
       "        0.01485466,  0.00116868, -0.01777106, -0.03197838, -0.01971585,\n",
       "       -0.01420012,  0.00837301,  0.07664964,  0.02595568,  0.01369434,\n",
       "        0.04774027,  0.03335406, -0.05015922, -0.01659513, -0.04133891,\n",
       "        0.02143592,  0.01798619, -0.02611958,  0.05418615,  0.00848071])"
      ]
     },
     "execution_count": 77,
     "metadata": {},
     "output_type": "execute_result"
    }
   ],
   "source": [
    "W, R= MFact.Weights, MFact.Ratings_matrix\n",
    "V = MFact.Items[:R.shape[0]]\n",
    "U = sp.csr_matrix(MFact.Users[:R.shape[1]])\n",
    "r_m = MFact.imputation_value\n",
    "lambda_ = MFact.lambda_\n",
    "UU = (MFact.weight*U.T).dot(U)\n",
    "\n",
    "i_rated = MFact.Idx[i,:]\n",
    "U_s = U[i_rated,:]\n",
    "lM = sp.csr_matrix(R[i,i_rated] - r_m).dot( sp.csr_matrix( W[i, i_rated].reshape((1, W[i, i_rated].shape[0])).T.dot(np.ones((1,MFact.no_factors)))).multiply(U[i_rated,:]) )\n",
    "rM = UU - (MFact.weight*U_s.T).dot(U_s) + U_s.T.multiply(sp.csr_matrix(np.ones((MFact.no_factors,1)).dot(MFact.Weights[i,i_rated].reshape(1, MFact.Weights[i,i_rated].shape[0])))).dot(U_s) \n",
    "reg = lambda_ * (MFact.weight * (len(W[i,:])-len(W[i,i_rated])) + (W[i,i_rated]-MFact.weight).sum()) * sp.eye(MFact.no_factors)\n",
    "sparse_lg.spsolve(rM+reg,lM.T)\n"
   ]
  },
  {
   "cell_type": "markdown",
   "metadata": {},
   "source": [
    "## Scale"
   ]
  },
  {
   "cell_type": "code",
   "execution_count": 41,
   "metadata": {
    "collapsed": false
   },
   "outputs": [
    {
     "data": {
      "text/plain": [
       "102"
      ]
     },
     "execution_count": 41,
     "metadata": {},
     "output_type": "execute_result"
    }
   ],
   "source": [
    "np.sum(MFact.Weights[i]==1)"
   ]
  },
  {
   "cell_type": "code",
   "execution_count": 42,
   "metadata": {
    "collapsed": false
   },
   "outputs": [
    {
     "data": {
      "text/plain": [
       "102"
      ]
     },
     "execution_count": 42,
     "metadata": {},
     "output_type": "execute_result"
    }
   ],
   "source": [
    "np.sum(MFact.Idx[i,:])"
   ]
  },
  {
   "cell_type": "code",
   "execution_count": 43,
   "metadata": {
    "collapsed": false
   },
   "outputs": [
    {
     "data": {
      "text/plain": [
       "102"
      ]
     },
     "execution_count": 43,
     "metadata": {},
     "output_type": "execute_result"
    }
   ],
   "source": [
    "len(Item_Users[i])"
   ]
  },
  {
   "cell_type": "code",
   "execution_count": 84,
   "metadata": {
    "collapsed": false
   },
   "outputs": [
    {
     "data": {
      "text/plain": [
       "array([-0.02109893,  0.04068626,  0.07676537,  0.04703615, -0.02490458,\n",
       "        0.0152375 ,  0.0334261 ,  0.00705645,  0.02915467,  0.06518816,\n",
       "        0.03127026, -0.01469543,  0.05393025,  0.00544302, -0.05670821,\n",
       "       -0.02360427, -0.00050787, -0.03409838, -0.06166553, -0.01579171,\n",
       "       -0.02184748,  0.02948321,  0.01342341,  0.04280662,  0.01198426,\n",
       "        0.02121263, -0.0049326 , -0.02598882, -0.02511188, -0.0352744 ,\n",
       "       -0.02801222,  0.00211184, -0.01637119, -0.04229047,  0.03209561,\n",
       "       -0.00439945,  0.00230341,  0.07112424, -0.01538775, -0.02387161,\n",
       "       -0.0197786 , -0.01241253,  0.01236529, -0.01592524,  0.00027657,\n",
       "        0.02109335,  0.0241652 ,  0.01671699, -0.00186549, -0.03361442])"
      ]
     },
     "execution_count": 84,
     "metadata": {},
     "output_type": "execute_result"
    }
   ],
   "source": []
  },
  {
   "cell_type": "code",
   "execution_count": 80,
   "metadata": {
    "collapsed": false
   },
   "outputs": [
    {
     "data": {
      "text/plain": [
       "(1, 102)"
      ]
     },
     "execution_count": 80,
     "metadata": {},
     "output_type": "execute_result"
    }
   ],
   "source": [
    "Wi.shape"
   ]
  },
  {
   "cell_type": "code",
   "execution_count": 44,
   "metadata": {
    "collapsed": false
   },
   "outputs": [
    {
     "data": {
      "text/plain": [
       "array([ 1.,  1.,  1.,  1.,  1.,  1.,  1.,  1.,  1.,  1.,  1.,  1.,  1.,\n",
       "        1.,  1.,  1.,  1.,  1.,  1.,  1.,  1.,  1.,  1.,  1.,  1.,  1.,\n",
       "        1.,  1.,  1.,  1.,  1.,  1.,  1.,  1.,  1.,  1.,  1.,  1.,  1.,\n",
       "        1.,  1.,  1.,  1.,  1.,  1.,  1.,  1.,  1.,  1.,  1.,  1.,  1.,\n",
       "        1.,  1.,  1.,  1.,  1.,  1.,  1.,  1.,  1.,  1.,  1.,  1.,  1.,\n",
       "        1.,  1.,  1.,  1.,  1.,  1.,  1.,  1.,  1.,  1.,  1.,  1.,  1.,\n",
       "        1.,  1.,  1.,  1.,  1.,  1.,  1.,  1.,  1.,  1.,  1.,  1.,  1.,\n",
       "        1.,  1.,  1.,  1.,  1.,  1.,  1.,  1.,  1.,  1.,  1.])"
      ]
     },
     "execution_count": 44,
     "metadata": {},
     "output_type": "execute_result"
    }
   ],
   "source": [
    "W[i, i_rated]"
   ]
  },
  {
   "cell_type": "code",
   "execution_count": 47,
   "metadata": {
    "collapsed": false
   },
   "outputs": [
    {
     "data": {
      "text/plain": [
       "(5436, 50)"
      ]
     },
     "execution_count": 47,
     "metadata": {},
     "output_type": "execute_result"
    }
   ],
   "source": [
    "U.shape"
   ]
  },
  {
   "cell_type": "code",
   "execution_count": 52,
   "metadata": {
    "collapsed": false
   },
   "outputs": [
    {
     "ename": "TypeError",
     "evalue": "unhashable type: 'list'",
     "output_type": "error",
     "traceback": [
      "\u001b[1;31m---------------------------------------------------------------------------\u001b[0m",
      "\u001b[1;31mTypeError\u001b[0m                                 Traceback (most recent call last)",
      "\u001b[1;32m<ipython-input-52-8dd95d2d0c3c>\u001b[0m in \u001b[0;36m<module>\u001b[1;34m()\u001b[0m\n\u001b[1;32m----> 1\u001b[1;33m \u001b[0mUser_Items\u001b[0m\u001b[1;33m[\u001b[0m\u001b[1;33m[\u001b[0m\u001b[1;36m1\u001b[0m\u001b[1;33m,\u001b[0m\u001b[1;36m2\u001b[0m\u001b[1;33m]\u001b[0m\u001b[1;33m]\u001b[0m\u001b[1;33m\u001b[0m\u001b[0m\n\u001b[0m",
      "\u001b[1;31mTypeError\u001b[0m: unhashable type: 'list'"
     ]
    }
   ],
   "source": []
  },
  {
   "cell_type": "code",
   "execution_count": null,
   "metadata": {
    "collapsed": true
   },
   "outputs": [],
   "source": []
  }
 ],
 "metadata": {
  "kernelspec": {
   "display_name": "IPython (Python 3)",
   "language": "python",
   "name": "python3"
  },
  "language_info": {
   "codemirror_mode": {
    "name": "ipython",
    "version": 3
   },
   "file_extension": ".py",
   "mimetype": "text/x-python",
   "name": "python",
   "nbconvert_exporter": "python",
   "pygments_lexer": "ipython3",
   "version": "3.4.3"
  }
 },
 "nbformat": 4,
 "nbformat_minor": 0
}
