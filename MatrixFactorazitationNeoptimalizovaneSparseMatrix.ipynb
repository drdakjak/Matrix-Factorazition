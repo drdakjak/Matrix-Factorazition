{
 "cells": [
  {
   "cell_type": "code",
   "execution_count": 1,
   "metadata": {
    "collapsed": true
   },
   "outputs": [],
   "source": [
    "import pandas as pd\n",
    "import json\n",
    "import matplotlib.pyplot as plt\n",
    "plt.style.use('ggplot')\n",
    "from multiprocessing import Process, Pool\n",
    "from threading import Thread\n",
    "import time\n",
    "import timeit\n",
    "%matplotlib inline"
   ]
  },
  {
   "cell_type": "markdown",
   "metadata": {},
   "source": [
    "# Nacteni dat"
   ]
  },
  {
   "cell_type": "code",
   "execution_count": 2,
   "metadata": {
    "collapsed": false
   },
   "outputs": [],
   "source": [
    "with open(\"/home/kuba/ownCloud/ModGen-fac-mat/sample-data-v2/movielens_1m/items.json\",'r') as f:\n",
    "    items = json.loads(f.read())\n",
    "\n",
    "with open(\"/home/kuba/ownCloud/ModGen-fac-mat/sample-data-v2/movielens_1m/properties.json\",'r') as f:\n",
    "    properties = json.loads(f.read())\n",
    "    \n",
    "with open(\"/home/kuba/ownCloud/ModGen-fac-mat/sample-data-v2/movielens_1m/user.folds.json\",'r') as f:\n",
    "    user_folds = json.loads(f.read())\n",
    "    \n",
    "with open(\"/home/kuba/ownCloud/ModGen-fac-mat/sample-data-v2/movielens_1m/users.int2str.json\",'r') as f:\n",
    "    users_int2str = json.loads(f.read())\n",
    "    \n",
    "with open(\"/home/kuba/ownCloud/ModGen-fac-mat/sample-data-v2/movielens_1m/users.str2int.json\",'r') as f:\n",
    "    users_str2int = json.loads(f.read())\n",
    "      \n",
    "ratings = pd.read_csv('/home/kuba/ownCloud/ModGen-fac-mat/sample-data-v2/movielens_1m/ratings.csv')\n",
    "\n",
    "with open(\"/home/kuba/ownCloud/ModGen-fac-mat/sample-data-v2/movielens_1m/items.int2str.json\",'r') as f:\n",
    "    items_int2str = json.loads(f.read())\n",
    "    \n",
    "with open(\"/home/kuba/ownCloud/ModGen-fac-mat/sample-data-v2/movielens_1m/items.str2int.json\",'r') as f:\n",
    "    items_str2int = json.loads(f.read())"
   ]
  },
  {
   "cell_type": "markdown",
   "metadata": {},
   "source": [
    "# Faktorizace"
   ]
  },
  {
   "cell_type": "code",
   "execution_count": 3,
   "metadata": {
    "collapsed": true
   },
   "outputs": [],
   "source": [
    "import multiprocessing\n",
    "import ctypes\n",
    "import numpy as np\n",
    "import scipy.sparse as sp\n",
    "import scipy.sparse.linalg as sparse_lg"
   ]
  },
  {
   "cell_type": "code",
   "execution_count": 4,
   "metadata": {
    "collapsed": false
   },
   "outputs": [],
   "source": [
    "import numpy as np\n",
    "from numpy.linalg import inv\n",
    "# %load_ext line_profiler"
   ]
  },
  {
   "cell_type": "code",
   "execution_count": 7,
   "metadata": {
    "collapsed": false
   },
   "outputs": [],
   "source": [
    "class MatrixFactorization:\n",
    "    def __init__(self, ratings, no_factors):\n",
    "        self.Ratings = ratings.pivot_table(columns=['userId'],index=['itemId'],values='rating')\n",
    "        self.Ratings_matrix = np.nan_to_num(self.Ratings.values)\n",
    "        self.Ratings_matrix_sparse = sp.csr_matrix(self.Ratings_matrix)\n",
    "        self.Idx = np.isfinite(self.Ratings.values)\n",
    "        self.ratings_dict = dict(ratings.apply(lambda r:( (str(int(r.userId)),str(int(r.itemId))),{\n",
    "                                                                    'rating':r.rating,\n",
    "                                                                     }), axis=1).values)\n",
    "        self.no_factors = no_factors\n",
    "        self.Users = None\n",
    "        self.Items = None\n",
    "        \n",
    "    def init(self):\n",
    "        if(self.weights_mode == \"AllRank\"):\n",
    "            self.Weights = np.isfinite(self.Ratings.values).astype(np.float64, copy=False)\n",
    "            self.Weights[self.Weights==0] = self.weight\n",
    "            self.Weights_sparse = sp.csr_matrix(self.Weights)\n",
    "            print(\"** Set weight: \",self.weight, \" to missing ratings **\")\n",
    "\n",
    "        elif(self.weights_mode == \"AllRank-pop\"):\n",
    "            pass\n",
    "        \n",
    "        elif(self.weights_mode == \"MF-RMSE\"):\n",
    "            assert self.weight == 0, \"Weight of missiong values MF-RMSE mode must be 0!\"\n",
    "            self.Weights = np.isfinite(self.Ratings.values).astype(np.float64, copy=False)\n",
    "            self.Weights_sparse = sp.csr_matrix(self.Weights)\n",
    "            \n",
    "        if(self.imputation_value != 0 ):   \n",
    "            self.Ratings_matrix[self.Idx==False] = self.imputation_value\n",
    "            self.Ratings_matrix_sparse = sp.csr_matrix(self.Ratings_matrix)\n",
    "            print(\"** Surrogate missing rating values by imputation value: \", self.imputation_value, \" **\")\n",
    "        \n",
    "        \n",
    "        if(self.random_init): \n",
    "            user_shared_array_base = multiprocessing.Array(ctypes.c_double, np.random.rand(self.Ratings.shape[1]* self.no_factors), lock=False)\n",
    "            user_shared_array = np.frombuffer(user_shared_array_base,dtype=float)    \n",
    "            self.Users = user_shared_array.reshape(self.Ratings.shape[1], self.no_factors)\n",
    "            \n",
    "            \n",
    "            item_shared_array_base = multiprocessing.Array(ctypes.c_double, np.random.rand(self.Ratings.shape[0] * self.no_factors), lock= False)\n",
    "            item_shared_array = np.frombuffer(item_shared_array_base,dtype=float)\n",
    "            self.Items = item_shared_array.reshape(self.Ratings.shape[0], self.no_factors)\n",
    "            \n",
    "    '''\n",
    "    RMSE\n",
    "    '''  \n",
    "    def get_error(self, R, U, V, W):\n",
    "        E = (R - (self.imputation_value + np.dot(V,U.T)))\n",
    "#         W_ = W[Idx] - self.weight\n",
    "        return (W * (E**2)).sum()\n",
    "    \n",
    "    '''\n",
    "    OPTIMAZE PER FACTOR\n",
    "    '''\n",
    "    \n",
    "    def compute_item_factor(self, batch):\n",
    "        W, R, V = self.Weights, self.Ratings_matrix, self.Items\n",
    "        lambda_, alfa, r_m = self.lambda_, self.alfa, self.imputation_value\n",
    "        if(self.sparse):\n",
    "            U = sp.csr_matrix(self.Users)\n",
    "        else:\n",
    "            U = self.Users\n",
    "\n",
    "\n",
    "        if(self.opt_method == \"solver\"):\n",
    "            if(self.sparse):\n",
    "                for i in batch:\n",
    "                    \n",
    "                    lM = sp.csr_matrix(R[i,:] - r_m).dot(sp.diags(W[i], 0)).dot(U)\n",
    "                    rM = (U.T.dot(sp.diags(W[i], 0))).dot(U) + lambda_ * W[i].sum() * sp.eye(self.no_factors)\n",
    "#                     V[i,:] = lM.dot(sparse_lg.inv(rM)).toarray()[0]\n",
    "                    V[i,:] = sparse_lg.spsolve(rM,lM.T)\n",
    "    \n",
    "            elif(not self.sparse):\n",
    "                for i in batch:\n",
    "                    lM = np.dot(np.dot((R[i,:] - r_m),np.diag(W[i,:])),U)\n",
    "                    rM = np.dot(np.dot(U.T,np.diag(W[i,:])),U) + lambda_ * W[i,:].sum() * np.eye(self.no_factors) #np.dot(np.trace(np.diag(W[i,:])),np.eye(self.no_factors))\n",
    "                    V[i,:] = np.dot(lM, inv(rM))\n",
    "#                     V[i,:] = np.linalg.solve(rM,lM)\n",
    "\n",
    "        if(self.opt_method == \"gradient-descent\"):\n",
    "            for i in batch:\n",
    "                for c in range(50):\n",
    "                    V[i] += -alfa * (np.dot((np.dot(V[i], U[Idx[i,:],:].T) - R[i,Idx[i,:]]), U[Idx[i,:],:]) + lambda_ * V[i]) #TODO pri AllRank je to spatne: Brat v uvahu vsechny hodnoceni \n",
    "        return\n",
    "    \n",
    "    def compute_user_factor(self, batch):\n",
    "        W, R, U = self.Weights, self.Ratings_matrix, self.Users\n",
    "        lambda_, alfa, r_m = self.lambda_, self.alfa, self.imputation_value\n",
    "        if(self.sparse):\n",
    "            V = sp.csr_matrix(self.Items)\n",
    "        else:\n",
    "            V = self.Items\n",
    "\n",
    "        if(self.opt_method == \"solver\"):\n",
    "            if(self.sparse):\n",
    "                for u in batch:\n",
    "                    lM = sp.csr_matrix(R[:,u].T - r_m).dot(sp.diags(W[:,u], 0)).dot(V)\n",
    "                    rM = (V.T.dot(sp.diags(W[:,u], 0))).dot(V) + lambda_ * W[:,u].sum() * sp.eye(self.no_factors)\n",
    "#                     U[u,:] = lM.dot(sparse_lg.inv(rM)).toarray()[0]\n",
    "                    U[u,:] = sparse_lg.spsolve(rM,lM.T)\n",
    "    \n",
    "            elif(not self.sparse):\n",
    "                for u in batch:\n",
    "                    lM = np.dot(np.dot(R[:,u].T - r_m, np.diag(W[:,u])), V)\n",
    "                    rM = np.dot(np.dot(V.T,np.diag(W[:,u])), V) + lambda_ * W[:,u].sum() * np.eye(self.no_factors) #np.dot(np.trace(np.diag(W[:,u]))\n",
    "                    U[u,:] = np.dot(lM, inv(rM))\n",
    "#                     U[u,:] = np.linalg.solve(rM,lM)\n",
    "\n",
    "        if(self.opt_method == \"gradient-descent\"):\n",
    "             for u in batch:\n",
    "                for c in range(50):\n",
    "                    U[u] += -alfa * (np.dot((np.dot(U[u], V[Idx[:,u],:].T) - R[Idx[:,u], u].T), V[Idx[:,u],:]) + lambda_* U[u] ) #TODO pri AllRank je to spatne: Brat v uvahu vsechny hodnoceni \n",
    "    \n",
    "        return\n",
    "    '''\n",
    "    OPTIMIZE RMSE\n",
    "    '''\n",
    "    def optimize_rmse(self):\n",
    "        \n",
    "        self.init()\n",
    "        weighted_errors = []\n",
    "\n",
    "        step_item = int(np.ceil(len(self.Items)/float(self.no_process)))\n",
    "        step_user = int(np.ceil(len(self.Users)/float(self.no_process)))\n",
    "        \n",
    "        item_range = [range(i,min(len(self.Items), i+step_item)) for i in range(0, len(self.Items), step_item)]\n",
    "        user_range = [range(i,min(len(self.Users), i+step_user)) for i in range(0, len(self.Users), step_user)]\n",
    "        print(\"Item range\", item_range)\n",
    "        print(\"User range\", user_range)\n",
    "        \n",
    "        for ii in range(self.no_iterations):\n",
    "            if(not ii % 1):\n",
    "                weighted_errors.append(self.get_error(self.Ratings_matrix, self.Users, self.Items, self.Weights))\n",
    "                print('{}th iteration is completed'.format(ii))\n",
    "                print(weighted_errors[-1])\n",
    "                self.R_hat = np.dot(self.Users, self.Items.T)\n",
    "\n",
    "            #ITEMS                \n",
    "            process = []\n",
    "            for batch in item_range:\n",
    "                p = Process(target = self.compute_item_factor, args = (batch,))\n",
    "                p.daemon = True\n",
    "\n",
    "                process.append(p)\n",
    "                p.start()\n",
    "            \n",
    "            [p.join() for p in process]\n",
    "                \n",
    "            #USERS\n",
    "            process = []\n",
    "            for batch in user_range:\n",
    "                p = Process(target = self.compute_user_factor, args = (batch,))\n",
    "                p.daemon = True\n",
    "\n",
    "                process.append(p)\n",
    "                p.start()\n",
    "            \n",
    "            [p.join() for p in process]\n",
    "\n",
    "\n",
    "        return weighted_errors\n",
    "\n",
    "        \n",
    "    def optimaze(self, no_iterations, loss_function=\"RMSE\", opt_method=\"solver\",  lambda_ = 0.001, alfa=0.00001, \n",
    "                 no_process = 1, random_init = True, weights_mode = \"MF-RMSE\", weight = 0, imputation_value = 0, sparse = False):\n",
    "        \n",
    "        self.loss_function = loss_function\n",
    "        self.solve_opt_method = opt_method \n",
    "        self.lambda_ = lambda_\n",
    "        self.alfa = alfa\n",
    "        self.no_process = no_process\n",
    "        self.no_iterations = no_iterations\n",
    "        self.random_init = random_init\n",
    "        self.weights_mode = weights_mode\n",
    "        self.weight = weight\n",
    "        self.imputation_value = imputation_value\n",
    "        self.opt_method = opt_method\n",
    "        self.sparse = sparse\n",
    "        \n",
    "        weighted_errors = self.optimize_rmse()\n",
    "        self.plot_rmse(weighted_errors)\n",
    "        \n",
    "    '''\n",
    "    PLOT AND EXPLORE\n",
    "    '''\n",
    "    def plot_rmse(self, weighted_errors):\n",
    "        plt.plot(np.log(weighted_errors), label=\"weighted error: \"+str(weighted_errors[-1]))\n",
    "        plt.ylabel(\"RMSE log scale\")\n",
    "        plt.xlabel(\"no iterations\")\n",
    "\n",
    "        plt.legend()\n",
    "        plt.show()\n",
    "    def explore(self):\n",
    "        R = self.Ratings_matrix\n",
    "        no_ratings = np.sum(self.Idx==True)\n",
    "        no_missing = np.sum(self.Idx==False)\n",
    "        no_all = no_ratings + no_missing\n",
    "        \n",
    "        sizes = [no_ratings, no_missing]\n",
    "        labels = [\"ratings\", \"missings\"]\n",
    "        colors = ['yellowgreen', 'lightskyblue']\n",
    "\n",
    "        plt.pie(sizes, labels=labels,\n",
    "                autopct='%1.1f%%', shadow=True, startangle=90, colors= colors)\n",
    "        plt.axis('equal')\n",
    "        plt.show()\n",
    "        print(\"#{} rating, #{} missing\".format(no_ratings, no_missing))\n",
    "        print(\"Estimate offset w(m): \", no_ratings/no_missing)\n",
    "        print(\"Avg of ratings: \", R[self.Idx].mean())\n",
    "        \n",
    "        no_relevant = np.sum(R[self.Idx]>=.25)\n",
    "        no_irelevant = np.sum(R[self.Idx]<.25)\n",
    "        labels = [\"relevant\", \"irelevenat\"]\n",
    "\n",
    "        sizes = [no_relevant, no_irelevant]\n",
    "        colors = ['lightskyblue', 'lightcoral']\n",
    "        plt.pie(sizes, labels=labels,\n",
    "                autopct='%1.1f%%', shadow=True, startangle=90, colors= colors)\n",
    "        plt.axis('equal')\n",
    "        plt.show()\n",
    "        \n",
    "        print(\"#{} relevant, #{} irelevant\".format(no_relevant, no_irelevant))"
   ]
  },
  {
   "cell_type": "code",
   "execution_count": 8,
   "metadata": {
    "collapsed": false,
    "scrolled": true
   },
   "outputs": [],
   "source": [
    "# %lprun -f MFact.rmse_optimalization MFact.rmse_optimalization(0.001, 0.0001, 5)"
   ]
  },
  {
   "cell_type": "code",
   "execution_count": 9,
   "metadata": {
    "collapsed": false
   },
   "outputs": [],
   "source": [
    "import datetime\n",
    "MFact = MatrixFactorization(ratings.copy(), 100)"
   ]
  },
  {
   "cell_type": "code",
   "execution_count": null,
   "metadata": {
    "collapsed": false
   },
   "outputs": [
    {
     "data": {
      "image/png": "[encoded data removed]",
      "text/plain": [
       "<matplotlib.figure.Figure at 0x7fd317fcbda0>"
      ]
     },
     "metadata": {},
     "output_type": "display_data"
    },
    {
     "name": "stdout",
     "output_type": "stream",
     "text": [
      "#1000209 rating, #21384031 missing\n",
      "Estimate offset w(m):  0.0467736415085\n",
      "Avg of ratings:  0.290782226515\n"
     ]
    },
    {
     "data": {
      "image/png": "[encoded data removed]",
      "text/plain": [
       "<matplotlib.figure.Figure at 0x7fd313466a58>"
      ]
     },
     "metadata": {},
     "output_type": "display_data"
    },
    {
     "name": "stdout",
     "output_type": "stream",
     "text": [
      "#575281 relevant, #424928 irelevant\n"
     ]
    }
   ],
   "source": [
    "MFact.explore()"
   ]
  },
  {
   "cell_type": "code",
   "execution_count": null,
   "metadata": {
    "collapsed": false
   },
   "outputs": [
    {
     "name": "stdout",
     "output_type": "stream",
     "text": [
      "** Set weight:  0.05  to missing ratings **\n",
      "** Surrogate missing rating values by imputation value:  0.1  **\n",
      "Item range [range(0, 530), range(530, 1060), range(1060, 1590), range(1590, 2120), range(2120, 2650), range(2650, 3180), range(3180, 3706)]\n",
      "User range [range(0, 863), range(863, 1726), range(1726, 2589), range(2589, 3452), range(3452, 4315), range(4315, 5178), range(5178, 6040)]\n",
      "0th iteration is completed\n",
      "1291870742.05\n"
     ]
    }
   ],
   "source": [
    "start_time = datetime.datetime.now()\n",
    "MFact.optimaze(8, opt_method=\"solver\",  alfa = 0.004, no_process = 7, weights_mode = \"AllRank\", weight = 0.05, imputation_value = 0.1 , random_init = True, sparse = True)\n",
    "datetime.datetime.now() - start_time"
   ]
  },
  {
   "cell_type": "code",
   "execution_count": null,
   "metadata": {
    "collapsed": true
   },
   "outputs": [],
   "source": []
  }
 ],
 "metadata": {
  "kernelspec": {
   "display_name": "IPython (Python 3)",
   "language": "python",
   "name": "python3"
  },
  "language_info": {
   "codemirror_mode": {
    "name": "ipython",
    "version": 3
   },
   "file_extension": ".py",
   "mimetype": "text/x-python",
   "name": "python",
   "nbconvert_exporter": "python",
   "pygments_lexer": "ipython3",
   "version": "3.4.3"
  }
 },
 "nbformat": 4,
 "nbformat_minor": 0
}
