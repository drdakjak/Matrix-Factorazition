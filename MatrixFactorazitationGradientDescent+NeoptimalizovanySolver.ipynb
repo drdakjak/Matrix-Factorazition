{
 "cells": [
  {
   "cell_type": "code",
   "execution_count": 5,
   "metadata": {
    "collapsed": true
   },
   "outputs": [],
   "source": [
    "import pandas as pd\n",
    "import json\n",
    "import matplotlib.pyplot as plt\n",
    "from multiprocessing import Process, Pool\n",
    "from threading import Thread\n",
    "import time\n",
    "%matplotlib inline"
   ]
  },
  {
   "cell_type": "markdown",
   "metadata": {},
   "source": [
    "# Nacteni dat"
   ]
  },
  {
   "cell_type": "code",
   "execution_count": 6,
   "metadata": {
    "collapsed": false
   },
   "outputs": [],
   "source": [
    "with open(\"/home/kuba/ownCloud/ModGen-fac-mat/sample-data-v2/movielens_1m/items.json\",'r') as f:\n",
    "    items = json.loads(f.read())\n",
    "\n",
    "with open(\"/home/kuba/ownCloud/ModGen-fac-mat/sample-data-v2/movielens_1m/properties.json\",'r') as f:\n",
    "    properties = json.loads(f.read())\n",
    "    \n",
    "with open(\"/home/kuba/ownCloud/ModGen-fac-mat/sample-data-v2/movielens_1m/user.folds.json\",'r') as f:\n",
    "    user_folds = json.loads(f.read())\n",
    "    \n",
    "with open(\"/home/kuba/ownCloud/ModGen-fac-mat/sample-data-v2/movielens_1m/users.int2str.json\",'r') as f:\n",
    "    users_int2str = json.loads(f.read())\n",
    "    \n",
    "with open(\"/home/kuba/ownCloud/ModGen-fac-mat/sample-data-v2/movielens_1m/users.str2int.json\",'r') as f:\n",
    "    users_str2int = json.loads(f.read())\n",
    "      \n",
    "ratings = pd.read_csv('/home/kuba/ownCloud/ModGen-fac-mat/sample-data-v2/movielens_1m/ratings.csv')\n",
    "\n",
    "with open(\"/home/kuba/ownCloud/ModGen-fac-mat/sample-data-v2/movielens_1m/items.int2str.json\",'r') as f:\n",
    "    items_int2str = json.loads(f.read())\n",
    "    \n",
    "with open(\"/home/kuba/ownCloud/ModGen-fac-mat/sample-data-v2/movielens_1m/items.str2int.json\",'r') as f:\n",
    "    items_str2int = json.loads(f.read())"
   ]
  },
  {
   "cell_type": "markdown",
   "metadata": {},
   "source": [
    "# Faktorizace"
   ]
  },
  {
   "cell_type": "code",
   "execution_count": 7,
   "metadata": {
    "collapsed": true
   },
   "outputs": [],
   "source": [
    "import multiprocessing\n",
    "import ctypes\n",
    "import numpy as np"
   ]
  },
  {
   "cell_type": "code",
   "execution_count": 8,
   "metadata": {
    "collapsed": false
   },
   "outputs": [],
   "source": [
    "import numpy as np\n",
    "from numpy.linalg import inv\n",
    "# %load_ext line_profiler"
   ]
  },
  {
   "cell_type": "code",
   "execution_count": 9,
   "metadata": {
    "collapsed": true
   },
   "outputs": [],
   "source": [
    "np.dot?"
   ]
  },
  {
   "cell_type": "code",
   "execution_count": 10,
   "metadata": {
    "collapsed": false
   },
   "outputs": [],
   "source": [
    "class MatrixFactorization:\n",
    "    def __init__(self, ratings, no_factors):\n",
    "        self.Ratings = ratings.pivot_table(columns=['userId'],index=['itemId'],values='rating')\n",
    "        self.Ratings_matrix = np.nan_to_num(self.Ratings.values)\n",
    "\n",
    "        self.Idx = np.isfinite(self.Ratings.values)\n",
    "\n",
    "        self.ratings_dict = dict(ratings.apply(lambda r:( (str(int(r.userId)),str(int(r.itemId))),{\n",
    "                                                                    'rating':r.rating,\n",
    "                                                                     }), axis=1).values)\n",
    "        self.no_factors = no_factors\n",
    "        self.Users = None\n",
    "        self.Items = None\n",
    "        \n",
    "    def init(self):\n",
    "        if(self.weights_mode == \"AllRank\"):\n",
    "            self.Weights = np.isfinite(self.Ratings.values).astype(np.float64, copy=False)\n",
    "            self.Weights[self.Weights==0] = self.weight\n",
    "            \n",
    "        elif(self.weights_mode == \"AllRank-pop\"):\n",
    "            pass\n",
    "        elif(self.weights_mode == \"MF-RMSE\"):\n",
    "            self.Weights = np.isfinite(self.Ratings.values).astype(np.float64, copy=False)\n",
    "\n",
    "            \n",
    "        self.Ratings_matrix += self.imputation_value\n",
    "        if(self.random_init): \n",
    "            shared_array_base = multiprocessing.Array(ctypes.c_double, np.random.rand(self.Ratings.shape[1]* self.no_factors), lock=False)\n",
    "            shared_array = np.frombuffer(shared_array_base,dtype=float)    \n",
    "            self.Users = shared_array.reshape(self.Ratings.shape[1], self.no_factors)\n",
    "\n",
    "            shared_array_base = multiprocessing.Array(ctypes.c_double, np.random.rand(self.Ratings.shape[0]* self.no_factors), lock= False)\n",
    "            shared_array = np.frombuffer(shared_array_base,dtype=float)\n",
    "            self.Items = shared_array.reshape(self.Ratings.shape[0], self.no_factors)\n",
    "        \n",
    "    '''\n",
    "    RMSE\n",
    "    '''  \n",
    "    def get_error(self, R, U, V, W):\n",
    "        return np.sum((W * (R - np.dot(V, U.T)))**2) \n",
    "    \n",
    "    '''\n",
    "    OPTIMAZE\n",
    "    '''\n",
    "    \n",
    "    def compute_item_factor(self, batch):\n",
    "\n",
    "        W, R, V, U, Idx = self.Weights, self.Ratings_matrix, self.Items, self.Users, self.Idx\n",
    "        lambda_, alfa, opt_method,r_m = self.lambda_, self.alfa, self.opt_method, self.imputation_value\n",
    "        \n",
    "        if(opt_method == \"solver\"):\n",
    "            for i in batch:\n",
    "#                 V[i] = np.linalg.solve(np.dot(U.T, np.dot(np.diag(Wi), U)) + lambda_ * np.eye(self.no_factors),\n",
    "#                                              np.dot(U.T, np.dot(np.diag(Wi), R[:, i])))\n",
    "                lM = np.dot(np.dot((R[i,:] - r_m),np.diag(W[i,:])),U)\n",
    "                rM = np.dot(np.dot(U.T,np.diag(W[i,:])),U) + lambda_ * np.dot(np.trace(np.diag(W[i,:])),np.eye(self.no_factors))\n",
    "#                 V[i,:] = np.dot(lM, inv(rM))\n",
    "                V[i,:] = np.linalg.solve(rM,lM)\n",
    "        if(opt_method == \"gradient-descent\"):\n",
    "            for i in batch:\n",
    "                for c in range(50):\n",
    "                    V[i] += -alfa * (np.dot((np.dot(V[i], U[Idx[i,:],:].T) - R[i,Idx[i,:]]), U[Idx[i,:],:]) + lambda_ * V[i])\n",
    "        return\n",
    "    \n",
    "    def compute_user_factor(self, batch):\n",
    "        \n",
    "        W, R, V, U, Idx = self.Weights, self.Ratings_matrix, self.Items, self.Users, self.Idx\n",
    "        lambda_, alfa, opt_method,r_m = self.lambda_, self.alfa, self.opt_method, self.imputation_value\n",
    "        \n",
    "        if(opt_method == \"solver\"):\n",
    "            for u in batch:\n",
    "#                 U[u] = np.linalg.solve(np.dot(V.T, np.dot(np.diag(Wu), V)) + lambda_ * np.eye(self.no_factors),\n",
    "#                                            np.dot(V.T, np.dot(np.diag(Wu), R[u].T))).T\n",
    "                lM = np.dot(np.dot(R[:,u].T - r_m, np.diag(W[:,u])), V)\n",
    "                rM = np.dot(np.dot(V.T,np.diag(W[:,u])), V) + lambda_ * np.dot(np.trace(np.diag(W[:,u])), np.eye(self.no_factors))\n",
    "#                 U[u,:] = np.dot(lM, inv(rM))\n",
    "                U[u,:] = np.linalg.solve(rM,lM)\n",
    "        if(opt_method == \"gradient-descent\"):\n",
    "             for u in batch:\n",
    "                for c in range(50):\n",
    "                    U[u] += -alfa * (np.dot((np.dot(U[u], V[Idx[:,u],:].T) - R[Idx[:,u], u].T), V[Idx[:,u],:]) + lambda_* U[u] )\n",
    "    \n",
    "        return\n",
    "    \n",
    "    def optimize_rmse(self):\n",
    "        \n",
    "        self.init()\n",
    "        weighted_errors = []\n",
    "\n",
    "        step_item = int(np.ceil(len(self.Items)/float(self.no_process)))\n",
    "        step_user = int(np.ceil(len(self.Users)/float(self.no_process)))\n",
    "        \n",
    "        item_range = [range(i,min(len(self.Items), i+step_item)) for i in range(0, len(self.Items), step_item)]\n",
    "        user_range = [range(i,min(len(self.Users), i+step_user)) for i in range(0, len(self.Users), step_user)]\n",
    "        print(\"Item range\", item_range)\n",
    "        print(\"User range\", user_range)\n",
    "        \n",
    "        for ii in range(self.no_iterations):\n",
    "            #ITEMS                \n",
    "            process = []\n",
    "            for batch in item_range:\n",
    "                p = Process(target = self.compute_item_factor, args = (batch,))\n",
    "                process.append(p)\n",
    "                p.daemon = True\n",
    "                p.start()\n",
    "            \n",
    "            [p.join() for p in process]\n",
    "                \n",
    "            #USERS\n",
    "            process = []\n",
    "            for batch in user_range:\n",
    "                p = Process(target = self.compute_user_factor, args = (batch,))\n",
    "                process.append(p)\n",
    "                p.daemon = True\n",
    "                p.start()\n",
    "            \n",
    "            [p.join() for p in process]\n",
    "\n",
    "            if(not ii % 2):\n",
    "                weighted_errors.append(self.get_error(self.Ratings_matrix, self.Users, self.Items, self.Weights))\n",
    "                print('{}th iteration is completed'.format(ii))\n",
    "                print(weighted_errors[-1])\n",
    "                if(weighted_errors[-1] < 241530):\n",
    "                    self.R_hat = np.dot(self.Users, self.Items.T)\n",
    "                    return weighted_errors\n",
    "            \n",
    "                \n",
    "        return weighted_errors\n",
    "    \n",
    "    def plot_rmse(self, weighted_errors):\n",
    "        plt.plot(np.log(weighted_errors), label=\"weighted error: \"+str(weighted_errors[-1]))\n",
    "        plt.ylabel(\"RMSE log scale\")\n",
    "        plt.xlabel(\"no iterations\")\n",
    "\n",
    "        plt.legend()\n",
    "        plt.show()\n",
    "        \n",
    "    def optimaze(self, no_iterations, loss_function=\"RMSE\", opt_method=\"solver\",  lambda_ = 0.001, alfa=0.00001, no_process = 1, random_init = True, weights_mode = \"MF-RMSE\", weight = 0, imputation_value = 0):\n",
    "        self.loss_function = loss_function\n",
    "        self.solve_opt_method = opt_method \n",
    "        self.lambda_ = lambda_\n",
    "        self.alfa = alfa\n",
    "        self.no_process = no_process\n",
    "        self.no_iterations = no_iterations\n",
    "        self.random_init = random_init\n",
    "        self.weights_mode = weights_mode\n",
    "        self.weight = weight\n",
    "        self.imputation_value = imputation_value\n",
    "        self.opt_method = opt_method\n",
    "        \n",
    "        weighted_errors = self.optimize_rmse()\n",
    "        self.plot_rmse(weighted_errors)\n",
    "       "
   ]
  },
  {
   "cell_type": "code",
   "execution_count": 11,
   "metadata": {
    "collapsed": false,
    "scrolled": true
   },
   "outputs": [],
   "source": [
    "# %lprun -f MFact.rmse_optimalization MFact.rmse_optimalization(0.001, 0.0001, 5)"
   ]
  },
  {
   "cell_type": "code",
   "execution_count": 12,
   "metadata": {
    "collapsed": false
   },
   "outputs": [],
   "source": [
    "import datetime\n",
    "MFact = MatrixFactorization(ratings.copy(), 10)"
   ]
  },
  {
   "cell_type": "code",
   "execution_count": 13,
   "metadata": {
    "collapsed": false
   },
   "outputs": [
    {
     "name": "stdout",
     "output_type": "stream",
     "text": [
      "Item range [range(0, 464), range(464, 928), range(928, 1392), range(1392, 1856), range(1856, 2320), range(2320, 2784), range(2784, 3248), range(3248, 3706)]\n",
      "User range [range(0, 755), range(755, 1510), range(1510, 2265), range(2265, 3020), range(3020, 3775), range(3775, 4530), range(4530, 5285), range(5285, 6040)]\n"
     ]
    },
    {
     "name": "stderr",
     "output_type": "stream",
     "text": [
      "Process Process-14:\n",
      "Traceback (most recent call last):\n",
      "  File \"/usr/lib/python3.4/multiprocessing/process.py\", line 254, in _bootstrap\n",
      "    self.run()\n",
      "  File \"/usr/lib/python3.4/multiprocessing/process.py\", line 93, in run\n",
      "    self._target(*self._args, **self._kwargs)\n",
      "  File \"<ipython-input-10-70d15564aca9>\", line 75, in compute_user_factor\n",
      "    rM = np.dot(np.dot(V.T,np.diag(W[:,u])), V) + lambda_ * np.dot(np.trace(np.diag(W[:,u])), np.eye(self.no_factors))\n",
      "  File \"/usr/local/lib/python3.4/dist-packages/numpy/lib/twodim_base.py\", line 307, in diag\n",
      "    res[:n-k].flat[i::n+1] = v\n",
      "KeyboardInterrupt\n",
      "Process Process-9:\n",
      "Process Process-15:\n",
      "KeyboardInterrupt\n"
     ]
    },
    {
     "ename": "KeyboardInterrupt",
     "evalue": "",
     "output_type": "error",
     "traceback": [
      "\u001b[1;31m---------------------------------------------------------------------------\u001b[0m",
      "\u001b[1;31mKeyboardInterrupt\u001b[0m                         Traceback (most recent call last)",
      "\u001b[1;32m<ipython-input-13-dcb724ac7cce>\u001b[0m in \u001b[0;36m<module>\u001b[1;34m()\u001b[0m\n\u001b[0;32m      1\u001b[0m \u001b[0mstart_time\u001b[0m \u001b[1;33m=\u001b[0m \u001b[0mdatetime\u001b[0m\u001b[1;33m.\u001b[0m\u001b[0mdatetime\u001b[0m\u001b[1;33m.\u001b[0m\u001b[0mnow\u001b[0m\u001b[1;33m(\u001b[0m\u001b[1;33m)\u001b[0m\u001b[1;33m\u001b[0m\u001b[0m\n\u001b[1;32m----> 2\u001b[1;33m \u001b[0mMFact\u001b[0m\u001b[1;33m.\u001b[0m\u001b[0moptimaze\u001b[0m\u001b[1;33m(\u001b[0m\u001b[1;36m400\u001b[0m\u001b[1;33m,\u001b[0m \u001b[0mopt_method\u001b[0m\u001b[1;33m=\u001b[0m\u001b[1;34m\"solver\"\u001b[0m\u001b[1;33m,\u001b[0m \u001b[0mlambda_\u001b[0m \u001b[1;33m=\u001b[0m \u001b[1;36m0.0001\u001b[0m\u001b[1;33m,\u001b[0m  \u001b[0malfa\u001b[0m \u001b[1;33m=\u001b[0m \u001b[1;36m0.0001\u001b[0m\u001b[1;33m,\u001b[0m \u001b[0mno_process\u001b[0m \u001b[1;33m=\u001b[0m \u001b[1;36m8\u001b[0m\u001b[1;33m,\u001b[0m \u001b[0mweights_mode\u001b[0m \u001b[1;33m=\u001b[0m \u001b[1;34m\"MF-RMSE\"\u001b[0m\u001b[1;33m,\u001b[0m \u001b[0mweight\u001b[0m \u001b[1;33m=\u001b[0m \u001b[1;36m0\u001b[0m\u001b[1;33m,\u001b[0m \u001b[0mrandom_init\u001b[0m \u001b[1;33m=\u001b[0m \u001b[1;32mTrue\u001b[0m\u001b[1;33m)\u001b[0m\u001b[1;33m\u001b[0m\u001b[0m\n\u001b[0m\u001b[0;32m      3\u001b[0m \u001b[0mdatetime\u001b[0m\u001b[1;33m.\u001b[0m\u001b[0mdatetime\u001b[0m\u001b[1;33m.\u001b[0m\u001b[0mnow\u001b[0m\u001b[1;33m(\u001b[0m\u001b[1;33m)\u001b[0m \u001b[1;33m-\u001b[0m \u001b[0mstart_time\u001b[0m\u001b[1;33m\u001b[0m\u001b[0m\n",
      "\u001b[1;32m<ipython-input-10-70d15564aca9>\u001b[0m in \u001b[0;36moptimaze\u001b[1;34m(self, no_iterations, loss_function, opt_method, lambda_, alfa, no_process, random_init, weights_mode, weight, imputation_value)\u001b[0m\n\u001b[0;32m    149\u001b[0m         \u001b[0mself\u001b[0m\u001b[1;33m.\u001b[0m\u001b[0mopt_method\u001b[0m \u001b[1;33m=\u001b[0m \u001b[0mopt_method\u001b[0m\u001b[1;33m\u001b[0m\u001b[0m\n\u001b[0;32m    150\u001b[0m \u001b[1;33m\u001b[0m\u001b[0m\n\u001b[1;32m--> 151\u001b[1;33m         \u001b[0mweighted_errors\u001b[0m \u001b[1;33m=\u001b[0m \u001b[0mself\u001b[0m\u001b[1;33m.\u001b[0m\u001b[0moptimize_rmse\u001b[0m\u001b[1;33m(\u001b[0m\u001b[1;33m)\u001b[0m\u001b[1;33m\u001b[0m\u001b[0m\n\u001b[0m\u001b[0;32m    152\u001b[0m         \u001b[0mself\u001b[0m\u001b[1;33m.\u001b[0m\u001b[0mplot_rmse\u001b[0m\u001b[1;33m(\u001b[0m\u001b[0mweighted_errors\u001b[0m\u001b[1;33m)\u001b[0m\u001b[1;33m\u001b[0m\u001b[0m\n\u001b[0;32m    153\u001b[0m \u001b[1;33m\u001b[0m\u001b[0m\n",
      "\u001b[1;32m<ipython-input-10-70d15564aca9>\u001b[0m in \u001b[0;36moptimize_rmse\u001b[1;34m(self)\u001b[0m\n\u001b[0;32m    115\u001b[0m                 \u001b[0mp\u001b[0m\u001b[1;33m.\u001b[0m\u001b[0mstart\u001b[0m\u001b[1;33m(\u001b[0m\u001b[1;33m)\u001b[0m\u001b[1;33m\u001b[0m\u001b[0m\n\u001b[0;32m    116\u001b[0m \u001b[1;33m\u001b[0m\u001b[0m\n\u001b[1;32m--> 117\u001b[1;33m             \u001b[1;33m[\u001b[0m\u001b[0mp\u001b[0m\u001b[1;33m.\u001b[0m\u001b[0mjoin\u001b[0m\u001b[1;33m(\u001b[0m\u001b[1;33m)\u001b[0m \u001b[1;32mfor\u001b[0m \u001b[0mp\u001b[0m \u001b[1;32min\u001b[0m \u001b[0mprocess\u001b[0m\u001b[1;33m]\u001b[0m\u001b[1;33m\u001b[0m\u001b[0m\n\u001b[0m\u001b[0;32m    118\u001b[0m \u001b[1;33m\u001b[0m\u001b[0m\n\u001b[0;32m    119\u001b[0m             \u001b[1;32mif\u001b[0m\u001b[1;33m(\u001b[0m\u001b[1;32mnot\u001b[0m \u001b[0mii\u001b[0m \u001b[1;33m%\u001b[0m \u001b[1;36m2\u001b[0m\u001b[1;33m)\u001b[0m\u001b[1;33m:\u001b[0m\u001b[1;33m\u001b[0m\u001b[0m\n",
      "\u001b[1;32m<ipython-input-10-70d15564aca9>\u001b[0m in \u001b[0;36m<listcomp>\u001b[1;34m(.0)\u001b[0m\n\u001b[0;32m    115\u001b[0m                 \u001b[0mp\u001b[0m\u001b[1;33m.\u001b[0m\u001b[0mstart\u001b[0m\u001b[1;33m(\u001b[0m\u001b[1;33m)\u001b[0m\u001b[1;33m\u001b[0m\u001b[0m\n\u001b[0;32m    116\u001b[0m \u001b[1;33m\u001b[0m\u001b[0m\n\u001b[1;32m--> 117\u001b[1;33m             \u001b[1;33m[\u001b[0m\u001b[0mp\u001b[0m\u001b[1;33m.\u001b[0m\u001b[0mjoin\u001b[0m\u001b[1;33m(\u001b[0m\u001b[1;33m)\u001b[0m \u001b[1;32mfor\u001b[0m \u001b[0mp\u001b[0m \u001b[1;32min\u001b[0m \u001b[0mprocess\u001b[0m\u001b[1;33m]\u001b[0m\u001b[1;33m\u001b[0m\u001b[0m\n\u001b[0m\u001b[0;32m    118\u001b[0m \u001b[1;33m\u001b[0m\u001b[0m\n\u001b[0;32m    119\u001b[0m             \u001b[1;32mif\u001b[0m\u001b[1;33m(\u001b[0m\u001b[1;32mnot\u001b[0m \u001b[0mii\u001b[0m \u001b[1;33m%\u001b[0m \u001b[1;36m2\u001b[0m\u001b[1;33m)\u001b[0m\u001b[1;33m:\u001b[0m\u001b[1;33m\u001b[0m\u001b[0m\n",
      "\u001b[1;32m/usr/lib/python3.4/multiprocessing/process.py\u001b[0m in \u001b[0;36mjoin\u001b[1;34m(self, timeout)\u001b[0m\n\u001b[0;32m    119\u001b[0m         \u001b[1;32massert\u001b[0m \u001b[0mself\u001b[0m\u001b[1;33m.\u001b[0m\u001b[0m_parent_pid\u001b[0m \u001b[1;33m==\u001b[0m \u001b[0mos\u001b[0m\u001b[1;33m.\u001b[0m\u001b[0mgetpid\u001b[0m\u001b[1;33m(\u001b[0m\u001b[1;33m)\u001b[0m\u001b[1;33m,\u001b[0m \u001b[1;34m'can only join a child process'\u001b[0m\u001b[1;33m\u001b[0m\u001b[0m\n\u001b[0;32m    120\u001b[0m         \u001b[1;32massert\u001b[0m \u001b[0mself\u001b[0m\u001b[1;33m.\u001b[0m\u001b[0m_popen\u001b[0m \u001b[1;32mis\u001b[0m \u001b[1;32mnot\u001b[0m \u001b[1;32mNone\u001b[0m\u001b[1;33m,\u001b[0m \u001b[1;34m'can only join a started process'\u001b[0m\u001b[1;33m\u001b[0m\u001b[0m\n\u001b[1;32m--> 121\u001b[1;33m         \u001b[0mres\u001b[0m \u001b[1;33m=\u001b[0m \u001b[0mself\u001b[0m\u001b[1;33m.\u001b[0m\u001b[0m_popen\u001b[0m\u001b[1;33m.\u001b[0m\u001b[0mwait\u001b[0m\u001b[1;33m(\u001b[0m\u001b[0mtimeout\u001b[0m\u001b[1;33m)\u001b[0m\u001b[1;33m\u001b[0m\u001b[0m\n\u001b[0m\u001b[0;32m    122\u001b[0m         \u001b[1;32mif\u001b[0m \u001b[0mres\u001b[0m \u001b[1;32mis\u001b[0m \u001b[1;32mnot\u001b[0m \u001b[1;32mNone\u001b[0m\u001b[1;33m:\u001b[0m\u001b[1;33m\u001b[0m\u001b[0m\n\u001b[0;32m    123\u001b[0m             \u001b[0m_children\u001b[0m\u001b[1;33m.\u001b[0m\u001b[0mdiscard\u001b[0m\u001b[1;33m(\u001b[0m\u001b[0mself\u001b[0m\u001b[1;33m)\u001b[0m\u001b[1;33m\u001b[0m\u001b[0m\n",
      "\u001b[1;32m/usr/lib/python3.4/multiprocessing/popen_fork.py\u001b[0m in \u001b[0;36mwait\u001b[1;34m(self, timeout)\u001b[0m\n\u001b[0;32m     52\u001b[0m                     \u001b[1;32mreturn\u001b[0m \u001b[1;32mNone\u001b[0m\u001b[1;33m\u001b[0m\u001b[0m\n\u001b[0;32m     53\u001b[0m             \u001b[1;31m# This shouldn't block if wait() returned successfully.\u001b[0m\u001b[1;33m\u001b[0m\u001b[1;33m\u001b[0m\u001b[0m\n\u001b[1;32m---> 54\u001b[1;33m             \u001b[1;32mreturn\u001b[0m \u001b[0mself\u001b[0m\u001b[1;33m.\u001b[0m\u001b[0mpoll\u001b[0m\u001b[1;33m(\u001b[0m\u001b[0mos\u001b[0m\u001b[1;33m.\u001b[0m\u001b[0mWNOHANG\u001b[0m \u001b[1;32mif\u001b[0m \u001b[0mtimeout\u001b[0m \u001b[1;33m==\u001b[0m \u001b[1;36m0.0\u001b[0m \u001b[1;32melse\u001b[0m \u001b[1;36m0\u001b[0m\u001b[1;33m)\u001b[0m\u001b[1;33m\u001b[0m\u001b[0m\n\u001b[0m\u001b[0;32m     55\u001b[0m         \u001b[1;32mreturn\u001b[0m \u001b[0mself\u001b[0m\u001b[1;33m.\u001b[0m\u001b[0mreturncode\u001b[0m\u001b[1;33m\u001b[0m\u001b[0m\n\u001b[0;32m     56\u001b[0m \u001b[1;33m\u001b[0m\u001b[0m\n",
      "\u001b[1;32m/usr/lib/python3.4/multiprocessing/popen_fork.py\u001b[0m in \u001b[0;36mpoll\u001b[1;34m(self, flag)\u001b[0m\n\u001b[0;32m     28\u001b[0m             \u001b[1;32mwhile\u001b[0m \u001b[1;32mTrue\u001b[0m\u001b[1;33m:\u001b[0m\u001b[1;33m\u001b[0m\u001b[0m\n\u001b[0;32m     29\u001b[0m                 \u001b[1;32mtry\u001b[0m\u001b[1;33m:\u001b[0m\u001b[1;33m\u001b[0m\u001b[0m\n\u001b[1;32m---> 30\u001b[1;33m                     \u001b[0mpid\u001b[0m\u001b[1;33m,\u001b[0m \u001b[0msts\u001b[0m \u001b[1;33m=\u001b[0m \u001b[0mos\u001b[0m\u001b[1;33m.\u001b[0m\u001b[0mwaitpid\u001b[0m\u001b[1;33m(\u001b[0m\u001b[0mself\u001b[0m\u001b[1;33m.\u001b[0m\u001b[0mpid\u001b[0m\u001b[1;33m,\u001b[0m \u001b[0mflag\u001b[0m\u001b[1;33m)\u001b[0m\u001b[1;33m\u001b[0m\u001b[0m\n\u001b[0m\u001b[0;32m     31\u001b[0m                 \u001b[1;32mexcept\u001b[0m \u001b[0mOSError\u001b[0m \u001b[1;32mas\u001b[0m \u001b[0me\u001b[0m\u001b[1;33m:\u001b[0m\u001b[1;33m\u001b[0m\u001b[0m\n\u001b[0;32m     32\u001b[0m                     \u001b[1;32mif\u001b[0m \u001b[0me\u001b[0m\u001b[1;33m.\u001b[0m\u001b[0merrno\u001b[0m \u001b[1;33m==\u001b[0m \u001b[0merrno\u001b[0m\u001b[1;33m.\u001b[0m\u001b[0mEINTR\u001b[0m\u001b[1;33m:\u001b[0m\u001b[1;33m\u001b[0m\u001b[0m\n",
      "\u001b[1;31mKeyboardInterrupt\u001b[0m: "
     ]
    },
    {
     "name": "stderr",
     "output_type": "stream",
     "text": [
      "Traceback (most recent call last):\n",
      "  File \"/usr/lib/python3.4/multiprocessing/process.py\", line 254, in _bootstrap\n",
      "    self.run()\n",
      "  File \"/usr/lib/python3.4/multiprocessing/process.py\", line 93, in run\n",
      "    self._target(*self._args, **self._kwargs)\n",
      "  File \"<ipython-input-10-70d15564aca9>\", line 75, in compute_user_factor\n",
      "    rM = np.dot(np.dot(V.T,np.diag(W[:,u])), V) + lambda_ * np.dot(np.trace(np.diag(W[:,u])), np.eye(self.no_factors))\n",
      "  File \"/usr/local/lib/python3.4/dist-packages/numpy/lib/twodim_base.py\", line 307, in diag\n",
      "    res[:n-k].flat[i::n+1] = v\n",
      "KeyboardInterrupt\n",
      "Process Process-13:\n",
      "Traceback (most recent call last):\n",
      "  File \"/usr/lib/python3.4/multiprocessing/process.py\", line 254, in _bootstrap\n",
      "    self.run()\n",
      "  File \"/usr/lib/python3.4/multiprocessing/process.py\", line 93, in run\n",
      "    self._target(*self._args, **self._kwargs)\n",
      "  File \"<ipython-input-10-70d15564aca9>\", line 74, in compute_user_factor\n",
      "    lM = np.dot(np.dot(R[:,u].T - r_m, np.diag(W[:,u])), V)\n",
      "  File \"/usr/local/lib/python3.4/dist-packages/numpy/lib/twodim_base.py\", line 307, in diag\n",
      "    res[:n-k].flat[i::n+1] = v\n",
      "Process Process-12:\n",
      "Traceback (most recent call last):\n",
      "  File \"/usr/lib/python3.4/multiprocessing/process.py\", line 254, in _bootstrap\n",
      "    self.run()\n",
      "  File \"/usr/lib/python3.4/multiprocessing/process.py\", line 93, in run\n",
      "    self._target(*self._args, **self._kwargs)\n",
      "  File \"<ipython-input-10-70d15564aca9>\", line 75, in compute_user_factor\n",
      "    rM = np.dot(np.dot(V.T,np.diag(W[:,u])), V) + lambda_ * np.dot(np.trace(np.diag(W[:,u])), np.eye(self.no_factors))\n",
      "  File \"/usr/local/lib/python3.4/dist-packages/numpy/lib/twodim_base.py\", line 307, in diag\n",
      "    res[:n-k].flat[i::n+1] = v\n",
      "KeyboardInterrupt\n"
     ]
    }
   ],
   "source": [
    "start_time = datetime.datetime.now()\n",
    "MFact.optimaze(400, opt_method=\"solver\", lambda_ = 0.0001,  alfa = 0.0001, no_process = 8, weights_mode = \"MF-RMSE\", weight = 0, random_init = True)\n",
    "datetime.datetime.now() - start_time"
   ]
  },
  {
   "cell_type": "code",
   "execution_count": null,
   "metadata": {
    "collapsed": true
   },
   "outputs": [],
   "source": []
  }
 ],
 "metadata": {
  "kernelspec": {
   "display_name": "IPython (Python 3)",
   "language": "python",
   "name": "python3"
  },
  "language_info": {
   "codemirror_mode": {
    "name": "ipython",
    "version": 3
   },
   "file_extension": ".py",
   "mimetype": "text/x-python",
   "name": "python",
   "nbconvert_exporter": "python",
   "pygments_lexer": "ipython3",
   "version": "3.4.3"
  }
 },
 "nbformat": 4,
 "nbformat_minor": 0
}
